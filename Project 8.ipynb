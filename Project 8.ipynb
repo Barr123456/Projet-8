{
 "cells": [
  {
   "cell_type": "markdown",
   "metadata": {},
   "source": [
    "## Project 8: Personal Data and Visualization"
   ]
  },
  {
   "cell_type": "markdown",
   "metadata": {},
   "source": [
    "## Part 1: Extracting Timestamps from your personal data"
   ]
  },
  {
   "cell_type": "code",
   "execution_count": 558,
   "metadata": {},
   "outputs": [],
   "source": [
    "import pandas as pd\n",
    "import numpy as np\n",
    "import json\n",
    "import csv"
   ]
  },
  {
   "cell_type": "code",
   "execution_count": 559,
   "metadata": {},
   "outputs": [],
   "source": [
    "# reading my own data that I requested from Google\n",
    "df_calender = pd.read_csv(\"Calender.csv\")"
   ]
  },
  {
   "cell_type": "code",
   "execution_count": 560,
   "metadata": {},
   "outputs": [
    {
     "data": {
      "text/html": [
       "<div>\n",
       "<style scoped>\n",
       "    .dataframe tbody tr th:only-of-type {\n",
       "        vertical-align: middle;\n",
       "    }\n",
       "\n",
       "    .dataframe tbody tr th {\n",
       "        vertical-align: top;\n",
       "    }\n",
       "\n",
       "    .dataframe thead th {\n",
       "        text-align: right;\n",
       "    }\n",
       "</style>\n",
       "<table border=\"1\" class=\"dataframe\">\n",
       "  <thead>\n",
       "    <tr style=\"text-align: right;\">\n",
       "      <th></th>\n",
       "      <th>SA Student Drop in Hour</th>\n",
       "      <th>2020-09-04 21:00:00+02:00</th>\n",
       "      <th>2020-09-04 23:00:00+02:00</th>\n",
       "      <th>Maria Martinez is inviting you to a scheduled Zoom meeting.\\n\\nJoin Zoom Meeting\\nhttps://whitman.zoom.us/j/91236182747\\n\\nMeeting ID: 912 3618 2747\\nOne tap mobile\\n+13017158592,,91236182747# US (Germantown)\\n+13126266799,,91236182747# US (Chicago)\\n\\nDial by your location\\n        +1 301 715 8592 US (Germantown)\\n        +1 312 626 6799 US (Chicago)\\n        +1 346 248 7799 US (Houston)\\n        +1 646 558 8656 US (New York)\\n        +1 669 900 6833 US (San Jose)\\n        +1 253 215 8782 US (Tacoma)\\nMeeting ID: 912 3618 2747\\nFind your local number: https://whitman.zoom.us/u/ac8G2Ghl0Z</th>\n",
       "      <th>https://whitman.zoom.us/j/91236182747</th>\n",
       "    </tr>\n",
       "  </thead>\n",
       "  <tbody>\n",
       "    <tr>\n",
       "      <th>0</th>\n",
       "      <td>Ousmane - 30-minuite</td>\n",
       "      <td>2020-10-09 18:00:00+00:00</td>\n",
       "      <td>2020-10-09 18:30:00+00:00</td>\n",
       "      <td>Attendee:\\nOusmane (barryo@whitman.edu)\\n\\nEve...</td>\n",
       "      <td>https://whitman.zoom.us/j/92372124135?pwd=SVJr...</td>\n",
       "    </tr>\n",
       "    <tr>\n",
       "      <th>1</th>\n",
       "      <td>Ousmane - 30-minuite</td>\n",
       "      <td>2020-10-14 21:00:00+00:00</td>\n",
       "      <td>2020-10-14 21:30:00+00:00</td>\n",
       "      <td>Attendee:\\nOusmane (barryo@whitman.edu)\\n\\nEve...</td>\n",
       "      <td>https://whitman.zoom.us/j/99286051474?pwd=Z1Jp...</td>\n",
       "    </tr>\n",
       "    <tr>\n",
       "      <th>2</th>\n",
       "      <td>Ousmane - 60-minute</td>\n",
       "      <td>2020-10-15 19:00:00+00:00</td>\n",
       "      <td>2020-10-15 20:00:00+00:00</td>\n",
       "      <td>Attendee:\\nOusmane (barryo@whitman.edu)\\n\\nEve...</td>\n",
       "      <td>https://whitman.zoom.us/j/92347059655?pwd=QWpJ...</td>\n",
       "    </tr>\n",
       "    <tr>\n",
       "      <th>3</th>\n",
       "      <td>Ousmane - 30-minuite</td>\n",
       "      <td>2020-11-12 17:30:00+00:00</td>\n",
       "      <td>2020-11-12 18:00:00+00:00</td>\n",
       "      <td>Attendee:\\nOusmane (barryo@whitman.edu)\\n\\nEve...</td>\n",
       "      <td>https://whitman.zoom.us/j/91311814636?pwd=SWZK...</td>\n",
       "    </tr>\n",
       "    <tr>\n",
       "      <th>4</th>\n",
       "      <td>Ousmane - 15-minute</td>\n",
       "      <td>2020-11-13 22:15:00+00:00</td>\n",
       "      <td>2020-11-13 22:30:00+00:00</td>\n",
       "      <td>Attendee:\\nOusmane (barryo@whitman.edu)\\n\\nEve...</td>\n",
       "      <td>https://whitman.zoom.us/j/97884782136?pwd=bDEx...</td>\n",
       "    </tr>\n",
       "    <tr>\n",
       "      <th>...</th>\n",
       "      <td>...</td>\n",
       "      <td>...</td>\n",
       "      <td>...</td>\n",
       "      <td>...</td>\n",
       "      <td>...</td>\n",
       "    </tr>\n",
       "    <tr>\n",
       "      <th>95</th>\n",
       "      <td>Global Connect - opportunity for remote online...</td>\n",
       "      <td>2021-02-14 16:00:00+00:00</td>\n",
       "      <td>2021-02-14 17:00:00+00:00</td>\n",
       "      <td>Dear out of country remote students!\\n\\n \\n\\nI...</td>\n",
       "      <td>https://whitman.zoom.us/j/3258492962</td>\n",
       "    </tr>\n",
       "    <tr>\n",
       "      <th>96</th>\n",
       "      <td>Ousmane / Greg - covid test @ Welty</td>\n",
       "      <td>2021-09-14 14:45:00+00:00</td>\n",
       "      <td>2021-09-14 15:45:00+00:00</td>\n",
       "      <td>Ousmane, I will meet you in the morning and le...</td>\n",
       "      <td>NaN</td>\n",
       "    </tr>\n",
       "    <tr>\n",
       "      <th>97</th>\n",
       "      <td>Flight to Rome (ET 703)</td>\n",
       "      <td>2021-07-08 18:35:00+00:00</td>\n",
       "      <td>2021-07-08 19:40:00+00:00</td>\n",
       "      <td>To see detailed information for automatically ...</td>\n",
       "      <td>Milano MXP</td>\n",
       "    </tr>\n",
       "    <tr>\n",
       "      <th>98</th>\n",
       "      <td>Stacy Wamucii's Zoom Meeting</td>\n",
       "      <td>2021-08-05 13:00:00+00:00</td>\n",
       "      <td>2021-08-05 13:45:00+00:00</td>\n",
       "      <td>Stacy Wamucii is inviting you to a scheduled Z...</td>\n",
       "      <td>https://zoom.us/j/95207229009?pwd=V3ZXdDVOWU9G...</td>\n",
       "    </tr>\n",
       "    <tr>\n",
       "      <th>99</th>\n",
       "      <td>Booked: Ousmane barryo@whitman.edu</td>\n",
       "      <td>2021-06-22 18:00:00+00:00</td>\n",
       "      <td>2021-06-22 18:30:00+00:00</td>\n",
       "      <td>Booking made at 6/22/21 3:31 PM&lt;br&gt;&lt;br&gt;Ref: EI...</td>\n",
       "      <td>NaN</td>\n",
       "    </tr>\n",
       "  </tbody>\n",
       "</table>\n",
       "<p>100 rows × 5 columns</p>\n",
       "</div>"
      ],
      "text/plain": [
       "                              SA Student Drop in Hour  \\\n",
       "0                                Ousmane - 30-minuite   \n",
       "1                                Ousmane - 30-minuite   \n",
       "2                                 Ousmane - 60-minute   \n",
       "3                                Ousmane - 30-minuite   \n",
       "4                                 Ousmane - 15-minute   \n",
       "..                                                ...   \n",
       "95  Global Connect - opportunity for remote online...   \n",
       "96                Ousmane / Greg - covid test @ Welty   \n",
       "97                            Flight to Rome (ET 703)   \n",
       "98                       Stacy Wamucii's Zoom Meeting   \n",
       "99                 Booked: Ousmane barryo@whitman.edu   \n",
       "\n",
       "    2020-09-04 21:00:00+02:00  2020-09-04 23:00:00+02:00  \\\n",
       "0   2020-10-09 18:00:00+00:00  2020-10-09 18:30:00+00:00   \n",
       "1   2020-10-14 21:00:00+00:00  2020-10-14 21:30:00+00:00   \n",
       "2   2020-10-15 19:00:00+00:00  2020-10-15 20:00:00+00:00   \n",
       "3   2020-11-12 17:30:00+00:00  2020-11-12 18:00:00+00:00   \n",
       "4   2020-11-13 22:15:00+00:00  2020-11-13 22:30:00+00:00   \n",
       "..                        ...                        ...   \n",
       "95  2021-02-14 16:00:00+00:00  2021-02-14 17:00:00+00:00   \n",
       "96  2021-09-14 14:45:00+00:00  2021-09-14 15:45:00+00:00   \n",
       "97  2021-07-08 18:35:00+00:00  2021-07-08 19:40:00+00:00   \n",
       "98  2021-08-05 13:00:00+00:00  2021-08-05 13:45:00+00:00   \n",
       "99  2021-06-22 18:00:00+00:00  2021-06-22 18:30:00+00:00   \n",
       "\n",
       "   Maria Martinez is inviting you to a scheduled Zoom meeting.\\n\\nJoin Zoom Meeting\\nhttps://whitman.zoom.us/j/91236182747\\n\\nMeeting ID: 912 3618 2747\\nOne tap mobile\\n+13017158592,,91236182747# US (Germantown)\\n+13126266799,,91236182747# US (Chicago)\\n\\nDial by your location\\n        +1 301 715 8592 US (Germantown)\\n        +1 312 626 6799 US (Chicago)\\n        +1 346 248 7799 US (Houston)\\n        +1 646 558 8656 US (New York)\\n        +1 669 900 6833 US (San Jose)\\n        +1 253 215 8782 US (Tacoma)\\nMeeting ID: 912 3618 2747\\nFind your local number: https://whitman.zoom.us/u/ac8G2Ghl0Z  \\\n",
       "0   Attendee:\\nOusmane (barryo@whitman.edu)\\n\\nEve...                                                                                                                                                                                                                                                                                                                                                                                                                                                                                                                                                                    \n",
       "1   Attendee:\\nOusmane (barryo@whitman.edu)\\n\\nEve...                                                                                                                                                                                                                                                                                                                                                                                                                                                                                                                                                                    \n",
       "2   Attendee:\\nOusmane (barryo@whitman.edu)\\n\\nEve...                                                                                                                                                                                                                                                                                                                                                                                                                                                                                                                                                                    \n",
       "3   Attendee:\\nOusmane (barryo@whitman.edu)\\n\\nEve...                                                                                                                                                                                                                                                                                                                                                                                                                                                                                                                                                                    \n",
       "4   Attendee:\\nOusmane (barryo@whitman.edu)\\n\\nEve...                                                                                                                                                                                                                                                                                                                                                                                                                                                                                                                                                                    \n",
       "..                                                ...                                                                                                                                                                                                                                                                                                                                                                                                                                                                                                                                                                    \n",
       "95  Dear out of country remote students!\\n\\n \\n\\nI...                                                                                                                                                                                                                                                                                                                                                                                                                                                                                                                                                                    \n",
       "96  Ousmane, I will meet you in the morning and le...                                                                                                                                                                                                                                                                                                                                                                                                                                                                                                                                                                    \n",
       "97  To see detailed information for automatically ...                                                                                                                                                                                                                                                                                                                                                                                                                                                                                                                                                                    \n",
       "98  Stacy Wamucii is inviting you to a scheduled Z...                                                                                                                                                                                                                                                                                                                                                                                                                                                                                                                                                                    \n",
       "99  Booking made at 6/22/21 3:31 PM<br><br>Ref: EI...                                                                                                                                                                                                                                                                                                                                                                                                                                                                                                                                                                    \n",
       "\n",
       "                https://whitman.zoom.us/j/91236182747  \n",
       "0   https://whitman.zoom.us/j/92372124135?pwd=SVJr...  \n",
       "1   https://whitman.zoom.us/j/99286051474?pwd=Z1Jp...  \n",
       "2   https://whitman.zoom.us/j/92347059655?pwd=QWpJ...  \n",
       "3   https://whitman.zoom.us/j/91311814636?pwd=SWZK...  \n",
       "4   https://whitman.zoom.us/j/97884782136?pwd=bDEx...  \n",
       "..                                                ...  \n",
       "95               https://whitman.zoom.us/j/3258492962  \n",
       "96                                                NaN  \n",
       "97                                         Milano MXP  \n",
       "98  https://zoom.us/j/95207229009?pwd=V3ZXdDVOWU9G...  \n",
       "99                                                NaN  \n",
       "\n",
       "[100 rows x 5 columns]"
      ]
     },
     "execution_count": 560,
     "metadata": {},
     "output_type": "execute_result"
    }
   ],
   "source": [
    "# I printed the first 100 column and row of the data\n",
    "df_calender.head(100)"
   ]
  },
  {
   "cell_type": "code",
   "execution_count": 561,
   "metadata": {},
   "outputs": [
    {
     "name": "stdout",
     "output_type": "stream",
     "text": [
      "<class 'pandas.core.frame.DataFrame'>\n",
      "RangeIndex: 172 entries, 0 to 171\n",
      "Data columns (total 5 columns):\n",
      " #   Column                                                                                                                                                                                                                                                                                                                                                                                                                                                                                                                                                                                             Non-Null Count  Dtype \n",
      "---  ------                                                                                                                                                                                                                                                                                                                                                                                                                                                                                                                                                                                             --------------  ----- \n",
      " 0   SA Student Drop in Hour                                                                                                                                                                                                                                                                                                                                                                                                                                                                                                                                                                            171 non-null    object\n",
      " 1   2020-09-04 21:00:00+02:00                                                                                                                                                                                                                                                                                                                                                                                                                                                                                                                                                                          172 non-null    object\n",
      " 2   2020-09-04 23:00:00+02:00                                                                                                                                                                                                                                                                                                                                                                                                                                                                                                                                                                          172 non-null    object\n",
      " 3   Maria Martinez is inviting you to a scheduled Zoom meeting.\n",
      "\n",
      "Join Zoom Meeting\n",
      "https://whitman.zoom.us/j/91236182747\n",
      "\n",
      "Meeting ID: 912 3618 2747\n",
      "One tap mobile\n",
      "+13017158592,,91236182747# US (Germantown)\n",
      "+13126266799,,91236182747# US (Chicago)\n",
      "\n",
      "Dial by your location\n",
      "        +1 301 715 8592 US (Germantown)\n",
      "        +1 312 626 6799 US (Chicago)\n",
      "        +1 346 248 7799 US (Houston)\n",
      "        +1 646 558 8656 US (New York)\n",
      "        +1 669 900 6833 US (San Jose)\n",
      "        +1 253 215 8782 US (Tacoma)\n",
      "Meeting ID: 912 3618 2747\n",
      "Find your local number: https://whitman.zoom.us/u/ac8G2Ghl0Z  156 non-null    object\n",
      " 4   https://whitman.zoom.us/j/91236182747                                                                                                                                                                                                                                                                                                                                                                                                                                                                                                                                                              86 non-null     object\n",
      "dtypes: object(5)\n",
      "memory usage: 6.8+ KB\n"
     ]
    }
   ],
   "source": [
    "# Just for curiosity I ak for Information about the data and fin  Out that there are a bit to know about it. \n",
    "df_calender.info()"
   ]
  },
  {
   "cell_type": "markdown",
   "metadata": {},
   "source": [
    "I look to get the timestamps data frame of my data"
   ]
  },
  {
   "cell_type": "code",
   "execution_count": 566,
   "metadata": {},
   "outputs": [],
   "source": [
    "df_Ousma = pd.DataFrame( df_calender[\"2020-09-04 21:00:00+02:00\"])"
   ]
  },
  {
   "cell_type": "markdown",
   "metadata": {},
   "source": [
    "Below I changed the format of my datastamps maybe for later to have the avbility to plot it."
   ]
  },
  {
   "cell_type": "code",
   "execution_count": 567,
   "metadata": {},
   "outputs": [
    {
     "data": {
      "text/html": [
       "<div>\n",
       "<style scoped>\n",
       "    .dataframe tbody tr th:only-of-type {\n",
       "        vertical-align: middle;\n",
       "    }\n",
       "\n",
       "    .dataframe tbody tr th {\n",
       "        vertical-align: top;\n",
       "    }\n",
       "\n",
       "    .dataframe thead th {\n",
       "        text-align: right;\n",
       "    }\n",
       "</style>\n",
       "<table border=\"1\" class=\"dataframe\">\n",
       "  <thead>\n",
       "    <tr style=\"text-align: right;\">\n",
       "      <th></th>\n",
       "      <th>2020-09-04 21:00:00+02:00</th>\n",
       "      <th>New Format</th>\n",
       "    </tr>\n",
       "  </thead>\n",
       "  <tbody>\n",
       "    <tr>\n",
       "      <th>0</th>\n",
       "      <td>2020-10-09 18:00:00+00:00</td>\n",
       "      <td>2020-10-09 18:00:00+00:00</td>\n",
       "    </tr>\n",
       "    <tr>\n",
       "      <th>1</th>\n",
       "      <td>2020-10-14 21:00:00+00:00</td>\n",
       "      <td>2020-10-14 21:00:00+00:00</td>\n",
       "    </tr>\n",
       "    <tr>\n",
       "      <th>2</th>\n",
       "      <td>2020-10-15 19:00:00+00:00</td>\n",
       "      <td>2020-10-15 19:00:00+00:00</td>\n",
       "    </tr>\n",
       "    <tr>\n",
       "      <th>3</th>\n",
       "      <td>2020-11-12 17:30:00+00:00</td>\n",
       "      <td>2020-11-12 17:30:00+00:00</td>\n",
       "    </tr>\n",
       "    <tr>\n",
       "      <th>4</th>\n",
       "      <td>2020-11-13 22:15:00+00:00</td>\n",
       "      <td>2020-11-13 22:15:00+00:00</td>\n",
       "    </tr>\n",
       "    <tr>\n",
       "      <th>...</th>\n",
       "      <td>...</td>\n",
       "      <td>...</td>\n",
       "    </tr>\n",
       "    <tr>\n",
       "      <th>167</th>\n",
       "      <td>2023-04-30 15:00:00+00:00</td>\n",
       "      <td>2023-04-30 15:00:00+00:00</td>\n",
       "    </tr>\n",
       "    <tr>\n",
       "      <th>168</th>\n",
       "      <td>2023-02-26 16:00:00+00:00</td>\n",
       "      <td>2023-02-26 16:00:00+00:00</td>\n",
       "    </tr>\n",
       "    <tr>\n",
       "      <th>169</th>\n",
       "      <td>2023-03-01 21:00:00+00:00</td>\n",
       "      <td>2023-03-01 21:00:00+00:00</td>\n",
       "    </tr>\n",
       "    <tr>\n",
       "      <th>170</th>\n",
       "      <td>2023-03-01 19:00:00+00:00</td>\n",
       "      <td>2023-03-01 19:00:00+00:00</td>\n",
       "    </tr>\n",
       "    <tr>\n",
       "      <th>171</th>\n",
       "      <td>2023-04-07 20:00:00+00:00</td>\n",
       "      <td>2023-04-07 20:00:00+00:00</td>\n",
       "    </tr>\n",
       "  </tbody>\n",
       "</table>\n",
       "<p>172 rows × 2 columns</p>\n",
       "</div>"
      ],
      "text/plain": [
       "     2020-09-04 21:00:00+02:00                 New Format\n",
       "0    2020-10-09 18:00:00+00:00  2020-10-09 18:00:00+00:00\n",
       "1    2020-10-14 21:00:00+00:00  2020-10-14 21:00:00+00:00\n",
       "2    2020-10-15 19:00:00+00:00  2020-10-15 19:00:00+00:00\n",
       "3    2020-11-12 17:30:00+00:00  2020-11-12 17:30:00+00:00\n",
       "4    2020-11-13 22:15:00+00:00  2020-11-13 22:15:00+00:00\n",
       "..                         ...                        ...\n",
       "167  2023-04-30 15:00:00+00:00  2023-04-30 15:00:00+00:00\n",
       "168  2023-02-26 16:00:00+00:00  2023-02-26 16:00:00+00:00\n",
       "169  2023-03-01 21:00:00+00:00  2023-03-01 21:00:00+00:00\n",
       "170  2023-03-01 19:00:00+00:00  2023-03-01 19:00:00+00:00\n",
       "171  2023-04-07 20:00:00+00:00  2023-04-07 20:00:00+00:00\n",
       "\n",
       "[172 rows x 2 columns]"
      ]
     },
     "execution_count": 567,
     "metadata": {},
     "output_type": "execute_result"
    }
   ],
   "source": [
    "df_Ousma[\"New Format\"] = pd.to_datetime(df_Ousma[\"2020-09-04 21:00:00+02:00\"])\n",
    "df_Ousma"
   ]
  },
  {
   "cell_type": "markdown",
   "metadata": {},
   "source": [
    "## Part 2: Analyzing timestamp data for patterns"
   ]
  },
  {
   "cell_type": "code",
   "execution_count": 569,
   "metadata": {},
   "outputs": [],
   "source": [
    "# I read Ahmadou's data\n",
    "df_AhmadouJobs = pd.read_csv('Saved_Jobs.csv')"
   ]
  },
  {
   "cell_type": "code",
   "execution_count": 570,
   "metadata": {},
   "outputs": [
    {
     "data": {
      "text/html": [
       "<div>\n",
       "<style scoped>\n",
       "    .dataframe tbody tr th:only-of-type {\n",
       "        vertical-align: middle;\n",
       "    }\n",
       "\n",
       "    .dataframe tbody tr th {\n",
       "        vertical-align: top;\n",
       "    }\n",
       "\n",
       "    .dataframe thead th {\n",
       "        text-align: right;\n",
       "    }\n",
       "</style>\n",
       "<table border=\"1\" class=\"dataframe\">\n",
       "  <thead>\n",
       "    <tr style=\"text-align: right;\">\n",
       "      <th></th>\n",
       "      <th>Saved Date</th>\n",
       "      <th>Job Url</th>\n",
       "      <th>Job Title</th>\n",
       "      <th>Company Name</th>\n",
       "    </tr>\n",
       "  </thead>\n",
       "  <tbody>\n",
       "    <tr>\n",
       "      <th>0</th>\n",
       "      <td>1/2/23, 4:54 AM</td>\n",
       "      <td>http://www.linkedin.com/jobs/view/3340047642</td>\n",
       "      <td>*Economics Consultant Intern - Analyst/Associa...</td>\n",
       "      <td>Charles River Associates</td>\n",
       "    </tr>\n",
       "    <tr>\n",
       "      <th>1</th>\n",
       "      <td>4/15/23, 2:37 PM</td>\n",
       "      <td>http://www.linkedin.com/jobs/view/3551616636</td>\n",
       "      <td>Global Philanthropy Forum Program Intern 2023</td>\n",
       "      <td>World Affairs</td>\n",
       "    </tr>\n",
       "    <tr>\n",
       "      <th>2</th>\n",
       "      <td>1/10/23, 11:11 AM</td>\n",
       "      <td>http://www.linkedin.com/jobs/view/3430708949</td>\n",
       "      <td>Wealth Management Summer Intern</td>\n",
       "      <td>Morgan Stanley</td>\n",
       "    </tr>\n",
       "    <tr>\n",
       "      <th>3</th>\n",
       "      <td>1/5/23, 4:25 PM</td>\n",
       "      <td>http://www.linkedin.com/jobs/view/3395703882</td>\n",
       "      <td>Equity Research Analyst - Expert Summer Intern...</td>\n",
       "      <td>Barclays Corporate &amp; Investment Bank</td>\n",
       "    </tr>\n",
       "    <tr>\n",
       "      <th>4</th>\n",
       "      <td>1/14/23, 9:01 AM</td>\n",
       "      <td>http://www.linkedin.com/jobs/view/3436852686</td>\n",
       "      <td>Data Science &amp; Analytics Internships – Summer ...</td>\n",
       "      <td>NBCUniversal</td>\n",
       "    </tr>\n",
       "    <tr>\n",
       "      <th>5</th>\n",
       "      <td>12/23/22, 3:26 AM</td>\n",
       "      <td>http://www.linkedin.com/jobs/view/3408330544</td>\n",
       "      <td>2023 Summer Internship Program</td>\n",
       "      <td>BlackRock</td>\n",
       "    </tr>\n",
       "    <tr>\n",
       "      <th>6</th>\n",
       "      <td>1/5/23, 4:24 PM</td>\n",
       "      <td>http://www.linkedin.com/jobs/view/3395703885</td>\n",
       "      <td>Risk Analyst - Explorer Summer Intern Program ...</td>\n",
       "      <td>Barclays</td>\n",
       "    </tr>\n",
       "    <tr>\n",
       "      <th>7</th>\n",
       "      <td>12/23/22, 4:00 AM</td>\n",
       "      <td>http://www.linkedin.com/jobs/view/3256506117</td>\n",
       "      <td>Intern - Economics, PXT Central Science</td>\n",
       "      <td>Amazon</td>\n",
       "    </tr>\n",
       "    <tr>\n",
       "      <th>8</th>\n",
       "      <td>11/27/22, 1:21 AM</td>\n",
       "      <td>http://www.linkedin.com/jobs/view/3340049515</td>\n",
       "      <td>*Economics Consultant Intern - Analyst/Associa...</td>\n",
       "      <td>Charles River Associates</td>\n",
       "    </tr>\n",
       "    <tr>\n",
       "      <th>9</th>\n",
       "      <td>11/27/22, 1:19 AM</td>\n",
       "      <td>http://www.linkedin.com/jobs/view/3340049512</td>\n",
       "      <td>*Economics Consultant Intern - Analyst/Associa...</td>\n",
       "      <td>Charles River Associates</td>\n",
       "    </tr>\n",
       "    <tr>\n",
       "      <th>10</th>\n",
       "      <td>11/27/22, 1:19 AM</td>\n",
       "      <td>http://www.linkedin.com/jobs/view/3340049514</td>\n",
       "      <td>*Economics Consultant Intern - Analyst/Associa...</td>\n",
       "      <td>Charles River Associates</td>\n",
       "    </tr>\n",
       "    <tr>\n",
       "      <th>11</th>\n",
       "      <td>1/27/23, 7:04 PM</td>\n",
       "      <td>http://www.linkedin.com/jobs/view/3451011898</td>\n",
       "      <td>Finance Intern - Summer</td>\n",
       "      <td>Spectrum</td>\n",
       "    </tr>\n",
       "    <tr>\n",
       "      <th>12</th>\n",
       "      <td>1/13/23, 10:08 PM</td>\n",
       "      <td>http://www.linkedin.com/jobs/view/3436855201</td>\n",
       "      <td>Data Science &amp; Analytics Internships – Summer ...</td>\n",
       "      <td>NBCUniversal</td>\n",
       "    </tr>\n",
       "    <tr>\n",
       "      <th>13</th>\n",
       "      <td>1/11/23, 11:06 AM</td>\n",
       "      <td>http://www.linkedin.com/jobs/view/3433188976</td>\n",
       "      <td>Data Science &amp; Analytics Internships – Summer ...</td>\n",
       "      <td>NBCUniversal</td>\n",
       "    </tr>\n",
       "    <tr>\n",
       "      <th>14</th>\n",
       "      <td>1/11/23, 5:02 PM</td>\n",
       "      <td>http://www.linkedin.com/jobs/view/3433189956</td>\n",
       "      <td>Data Science &amp; Analytics Internships – Summer ...</td>\n",
       "      <td>NBCUniversal</td>\n",
       "    </tr>\n",
       "    <tr>\n",
       "      <th>15</th>\n",
       "      <td>2/23/23, 7:50 PM</td>\n",
       "      <td>http://www.linkedin.com/jobs/view/3416705614</td>\n",
       "      <td>Operations Internship - Sales Service and Deli...</td>\n",
       "      <td>Tesla</td>\n",
       "    </tr>\n",
       "    <tr>\n",
       "      <th>16</th>\n",
       "      <td>2/23/23, 10:26 PM</td>\n",
       "      <td>http://www.linkedin.com/jobs/view/3496024939</td>\n",
       "      <td>Data Research Summer 2023 Intern</td>\n",
       "      <td>U.S. News &amp; World Report</td>\n",
       "    </tr>\n",
       "    <tr>\n",
       "      <th>17</th>\n",
       "      <td>1/14/23, 9:00 AM</td>\n",
       "      <td>http://www.linkedin.com/jobs/view/3438642608</td>\n",
       "      <td>Data Science &amp; Analytics Internships – Summer ...</td>\n",
       "      <td>NBCUniversal</td>\n",
       "    </tr>\n",
       "    <tr>\n",
       "      <th>18</th>\n",
       "      <td>4/15/23, 5:50 PM</td>\n",
       "      <td>http://www.linkedin.com/jobs/view/3531357821</td>\n",
       "      <td>Summer 2023 Internship - Capital Markets</td>\n",
       "      <td>Pagaya</td>\n",
       "    </tr>\n",
       "    <tr>\n",
       "      <th>19</th>\n",
       "      <td>1/11/23, 11:04 AM</td>\n",
       "      <td>http://www.linkedin.com/jobs/view/3420719697</td>\n",
       "      <td>Private Equity Summer Associate Internship Pro...</td>\n",
       "      <td>LS Power</td>\n",
       "    </tr>\n",
       "  </tbody>\n",
       "</table>\n",
       "</div>"
      ],
      "text/plain": [
       "           Saved Date                                       Job Url  \\\n",
       "0     1/2/23, 4:54 AM  http://www.linkedin.com/jobs/view/3340047642   \n",
       "1    4/15/23, 2:37 PM  http://www.linkedin.com/jobs/view/3551616636   \n",
       "2   1/10/23, 11:11 AM  http://www.linkedin.com/jobs/view/3430708949   \n",
       "3     1/5/23, 4:25 PM  http://www.linkedin.com/jobs/view/3395703882   \n",
       "4    1/14/23, 9:01 AM  http://www.linkedin.com/jobs/view/3436852686   \n",
       "5   12/23/22, 3:26 AM  http://www.linkedin.com/jobs/view/3408330544   \n",
       "6     1/5/23, 4:24 PM  http://www.linkedin.com/jobs/view/3395703885   \n",
       "7   12/23/22, 4:00 AM  http://www.linkedin.com/jobs/view/3256506117   \n",
       "8   11/27/22, 1:21 AM  http://www.linkedin.com/jobs/view/3340049515   \n",
       "9   11/27/22, 1:19 AM  http://www.linkedin.com/jobs/view/3340049512   \n",
       "10  11/27/22, 1:19 AM  http://www.linkedin.com/jobs/view/3340049514   \n",
       "11   1/27/23, 7:04 PM  http://www.linkedin.com/jobs/view/3451011898   \n",
       "12  1/13/23, 10:08 PM  http://www.linkedin.com/jobs/view/3436855201   \n",
       "13  1/11/23, 11:06 AM  http://www.linkedin.com/jobs/view/3433188976   \n",
       "14   1/11/23, 5:02 PM  http://www.linkedin.com/jobs/view/3433189956   \n",
       "15   2/23/23, 7:50 PM  http://www.linkedin.com/jobs/view/3416705614   \n",
       "16  2/23/23, 10:26 PM  http://www.linkedin.com/jobs/view/3496024939   \n",
       "17   1/14/23, 9:00 AM  http://www.linkedin.com/jobs/view/3438642608   \n",
       "18   4/15/23, 5:50 PM  http://www.linkedin.com/jobs/view/3531357821   \n",
       "19  1/11/23, 11:04 AM  http://www.linkedin.com/jobs/view/3420719697   \n",
       "\n",
       "                                            Job Title  \\\n",
       "0   *Economics Consultant Intern - Analyst/Associa...   \n",
       "1       Global Philanthropy Forum Program Intern 2023   \n",
       "2                     Wealth Management Summer Intern   \n",
       "3   Equity Research Analyst - Expert Summer Intern...   \n",
       "4   Data Science & Analytics Internships – Summer ...   \n",
       "5                      2023 Summer Internship Program   \n",
       "6   Risk Analyst - Explorer Summer Intern Program ...   \n",
       "7             Intern - Economics, PXT Central Science   \n",
       "8   *Economics Consultant Intern - Analyst/Associa...   \n",
       "9   *Economics Consultant Intern - Analyst/Associa...   \n",
       "10  *Economics Consultant Intern - Analyst/Associa...   \n",
       "11                            Finance Intern - Summer   \n",
       "12  Data Science & Analytics Internships – Summer ...   \n",
       "13  Data Science & Analytics Internships – Summer ...   \n",
       "14  Data Science & Analytics Internships – Summer ...   \n",
       "15  Operations Internship - Sales Service and Deli...   \n",
       "16                   Data Research Summer 2023 Intern   \n",
       "17  Data Science & Analytics Internships – Summer ...   \n",
       "18           Summer 2023 Internship - Capital Markets   \n",
       "19  Private Equity Summer Associate Internship Pro...   \n",
       "\n",
       "                            Company Name  \n",
       "0               Charles River Associates  \n",
       "1                          World Affairs  \n",
       "2                         Morgan Stanley  \n",
       "3   Barclays Corporate & Investment Bank  \n",
       "4                           NBCUniversal  \n",
       "5                              BlackRock  \n",
       "6                               Barclays  \n",
       "7                                 Amazon  \n",
       "8               Charles River Associates  \n",
       "9               Charles River Associates  \n",
       "10              Charles River Associates  \n",
       "11                              Spectrum  \n",
       "12                          NBCUniversal  \n",
       "13                          NBCUniversal  \n",
       "14                          NBCUniversal  \n",
       "15                                 Tesla  \n",
       "16              U.S. News & World Report  \n",
       "17                          NBCUniversal  \n",
       "18                                Pagaya  \n",
       "19                              LS Power  "
      ]
     },
     "execution_count": 570,
     "metadata": {},
     "output_type": "execute_result"
    }
   ],
   "source": [
    "\n",
    "#I printed the first 20 row and column of his data \n",
    "df_AhmadouJobs.head(20)"
   ]
  },
  {
   "cell_type": "code",
   "execution_count": 571,
   "metadata": {},
   "outputs": [],
   "source": [
    "# I requested the timestamps with data frame \n",
    "df_DateTimes = pd.DataFrame( df_AhmadouJobs[\"Saved Date\"])"
   ]
  },
  {
   "cell_type": "code",
   "execution_count": 572,
   "metadata": {},
   "outputs": [
    {
     "data": {
      "text/html": [
       "<div>\n",
       "<style scoped>\n",
       "    .dataframe tbody tr th:only-of-type {\n",
       "        vertical-align: middle;\n",
       "    }\n",
       "\n",
       "    .dataframe tbody tr th {\n",
       "        vertical-align: top;\n",
       "    }\n",
       "\n",
       "    .dataframe thead th {\n",
       "        text-align: right;\n",
       "    }\n",
       "</style>\n",
       "<table border=\"1\" class=\"dataframe\">\n",
       "  <thead>\n",
       "    <tr style=\"text-align: right;\">\n",
       "      <th></th>\n",
       "      <th>Saved Date</th>\n",
       "      <th>New DF</th>\n",
       "    </tr>\n",
       "  </thead>\n",
       "  <tbody>\n",
       "    <tr>\n",
       "      <th>0</th>\n",
       "      <td>1/2/23, 4:54 AM</td>\n",
       "      <td>2023-01-02 04:54:00</td>\n",
       "    </tr>\n",
       "    <tr>\n",
       "      <th>1</th>\n",
       "      <td>4/15/23, 2:37 PM</td>\n",
       "      <td>2023-04-15 14:37:00</td>\n",
       "    </tr>\n",
       "    <tr>\n",
       "      <th>2</th>\n",
       "      <td>1/10/23, 11:11 AM</td>\n",
       "      <td>2023-01-10 11:11:00</td>\n",
       "    </tr>\n",
       "    <tr>\n",
       "      <th>3</th>\n",
       "      <td>1/5/23, 4:25 PM</td>\n",
       "      <td>2023-01-05 16:25:00</td>\n",
       "    </tr>\n",
       "    <tr>\n",
       "      <th>4</th>\n",
       "      <td>1/14/23, 9:01 AM</td>\n",
       "      <td>2023-01-14 09:01:00</td>\n",
       "    </tr>\n",
       "    <tr>\n",
       "      <th>...</th>\n",
       "      <td>...</td>\n",
       "      <td>...</td>\n",
       "    </tr>\n",
       "    <tr>\n",
       "      <th>57</th>\n",
       "      <td>1/5/23, 4:19 PM</td>\n",
       "      <td>2023-01-05 16:19:00</td>\n",
       "    </tr>\n",
       "    <tr>\n",
       "      <th>58</th>\n",
       "      <td>1/9/23, 12:22 PM</td>\n",
       "      <td>2023-01-09 12:22:00</td>\n",
       "    </tr>\n",
       "    <tr>\n",
       "      <th>59</th>\n",
       "      <td>3/17/23, 1:32 PM</td>\n",
       "      <td>2023-03-17 13:32:00</td>\n",
       "    </tr>\n",
       "    <tr>\n",
       "      <th>60</th>\n",
       "      <td>1/5/23, 4:19 PM</td>\n",
       "      <td>2023-01-05 16:19:00</td>\n",
       "    </tr>\n",
       "    <tr>\n",
       "      <th>61</th>\n",
       "      <td>2/11/23, 12:11 AM</td>\n",
       "      <td>2023-02-11 00:11:00</td>\n",
       "    </tr>\n",
       "  </tbody>\n",
       "</table>\n",
       "<p>62 rows × 2 columns</p>\n",
       "</div>"
      ],
      "text/plain": [
       "           Saved Date              New DF\n",
       "0     1/2/23, 4:54 AM 2023-01-02 04:54:00\n",
       "1    4/15/23, 2:37 PM 2023-04-15 14:37:00\n",
       "2   1/10/23, 11:11 AM 2023-01-10 11:11:00\n",
       "3     1/5/23, 4:25 PM 2023-01-05 16:25:00\n",
       "4    1/14/23, 9:01 AM 2023-01-14 09:01:00\n",
       "..                ...                 ...\n",
       "57    1/5/23, 4:19 PM 2023-01-05 16:19:00\n",
       "58   1/9/23, 12:22 PM 2023-01-09 12:22:00\n",
       "59   3/17/23, 1:32 PM 2023-03-17 13:32:00\n",
       "60    1/5/23, 4:19 PM 2023-01-05 16:19:00\n",
       "61  2/11/23, 12:11 AM 2023-02-11 00:11:00\n",
       "\n",
       "[62 rows x 2 columns]"
      ]
     },
     "execution_count": 572,
     "metadata": {},
     "output_type": "execute_result"
    }
   ],
   "source": [
    "# I converted the date times toa new format so that It will allow me for later to plot it.\n",
    "df_DateTimes[\"New DF\"] = pd.to_datetime(df_DateTimes[\"Saved Date\"])\n",
    "df_DateTimes"
   ]
  },
  {
   "cell_type": "code",
   "execution_count": 573,
   "metadata": {},
   "outputs": [],
   "source": [
    "# I cheked if there are any days and time differents between the data by using the diff function.\n",
    "df_DateTimes[\"diff\"] = pd.to_datetime(df_DateTimes[\"New DF\"]).diff()"
   ]
  },
  {
   "cell_type": "code",
   "execution_count": 574,
   "metadata": {},
   "outputs": [
    {
     "data": {
      "text/html": [
       "<div>\n",
       "<style scoped>\n",
       "    .dataframe tbody tr th:only-of-type {\n",
       "        vertical-align: middle;\n",
       "    }\n",
       "\n",
       "    .dataframe tbody tr th {\n",
       "        vertical-align: top;\n",
       "    }\n",
       "\n",
       "    .dataframe thead th {\n",
       "        text-align: right;\n",
       "    }\n",
       "</style>\n",
       "<table border=\"1\" class=\"dataframe\">\n",
       "  <thead>\n",
       "    <tr style=\"text-align: right;\">\n",
       "      <th></th>\n",
       "      <th>Saved Date</th>\n",
       "      <th>New DF</th>\n",
       "      <th>diff</th>\n",
       "    </tr>\n",
       "  </thead>\n",
       "  <tbody>\n",
       "    <tr>\n",
       "      <th>0</th>\n",
       "      <td>1/2/23, 4:54 AM</td>\n",
       "      <td>2023-01-02 04:54:00</td>\n",
       "      <td>NaT</td>\n",
       "    </tr>\n",
       "    <tr>\n",
       "      <th>1</th>\n",
       "      <td>4/15/23, 2:37 PM</td>\n",
       "      <td>2023-04-15 14:37:00</td>\n",
       "      <td>103 days 09:43:00</td>\n",
       "    </tr>\n",
       "    <tr>\n",
       "      <th>2</th>\n",
       "      <td>1/10/23, 11:11 AM</td>\n",
       "      <td>2023-01-10 11:11:00</td>\n",
       "      <td>-96 days +20:34:00</td>\n",
       "    </tr>\n",
       "    <tr>\n",
       "      <th>3</th>\n",
       "      <td>1/5/23, 4:25 PM</td>\n",
       "      <td>2023-01-05 16:25:00</td>\n",
       "      <td>-5 days +05:14:00</td>\n",
       "    </tr>\n",
       "    <tr>\n",
       "      <th>4</th>\n",
       "      <td>1/14/23, 9:01 AM</td>\n",
       "      <td>2023-01-14 09:01:00</td>\n",
       "      <td>8 days 16:36:00</td>\n",
       "    </tr>\n",
       "    <tr>\n",
       "      <th>...</th>\n",
       "      <td>...</td>\n",
       "      <td>...</td>\n",
       "      <td>...</td>\n",
       "    </tr>\n",
       "    <tr>\n",
       "      <th>57</th>\n",
       "      <td>1/5/23, 4:19 PM</td>\n",
       "      <td>2023-01-05 16:19:00</td>\n",
       "      <td>-9 days +18:25:00</td>\n",
       "    </tr>\n",
       "    <tr>\n",
       "      <th>58</th>\n",
       "      <td>1/9/23, 12:22 PM</td>\n",
       "      <td>2023-01-09 12:22:00</td>\n",
       "      <td>3 days 20:03:00</td>\n",
       "    </tr>\n",
       "    <tr>\n",
       "      <th>59</th>\n",
       "      <td>3/17/23, 1:32 PM</td>\n",
       "      <td>2023-03-17 13:32:00</td>\n",
       "      <td>67 days 01:10:00</td>\n",
       "    </tr>\n",
       "    <tr>\n",
       "      <th>60</th>\n",
       "      <td>1/5/23, 4:19 PM</td>\n",
       "      <td>2023-01-05 16:19:00</td>\n",
       "      <td>-71 days +02:47:00</td>\n",
       "    </tr>\n",
       "    <tr>\n",
       "      <th>61</th>\n",
       "      <td>2/11/23, 12:11 AM</td>\n",
       "      <td>2023-02-11 00:11:00</td>\n",
       "      <td>36 days 07:52:00</td>\n",
       "    </tr>\n",
       "  </tbody>\n",
       "</table>\n",
       "<p>62 rows × 3 columns</p>\n",
       "</div>"
      ],
      "text/plain": [
       "           Saved Date              New DF               diff\n",
       "0     1/2/23, 4:54 AM 2023-01-02 04:54:00                NaT\n",
       "1    4/15/23, 2:37 PM 2023-04-15 14:37:00  103 days 09:43:00\n",
       "2   1/10/23, 11:11 AM 2023-01-10 11:11:00 -96 days +20:34:00\n",
       "3     1/5/23, 4:25 PM 2023-01-05 16:25:00  -5 days +05:14:00\n",
       "4    1/14/23, 9:01 AM 2023-01-14 09:01:00    8 days 16:36:00\n",
       "..                ...                 ...                ...\n",
       "57    1/5/23, 4:19 PM 2023-01-05 16:19:00  -9 days +18:25:00\n",
       "58   1/9/23, 12:22 PM 2023-01-09 12:22:00    3 days 20:03:00\n",
       "59   3/17/23, 1:32 PM 2023-03-17 13:32:00   67 days 01:10:00\n",
       "60    1/5/23, 4:19 PM 2023-01-05 16:19:00 -71 days +02:47:00\n",
       "61  2/11/23, 12:11 AM 2023-02-11 00:11:00   36 days 07:52:00\n",
       "\n",
       "[62 rows x 3 columns]"
      ]
     },
     "execution_count": 574,
     "metadata": {},
     "output_type": "execute_result"
    }
   ],
   "source": [
    "df_DateTimes"
   ]
  },
  {
   "cell_type": "code",
   "execution_count": 575,
   "metadata": {},
   "outputs": [
    {
     "data": {
      "text/html": [
       "<div>\n",
       "<style scoped>\n",
       "    .dataframe tbody tr th:only-of-type {\n",
       "        vertical-align: middle;\n",
       "    }\n",
       "\n",
       "    .dataframe tbody tr th {\n",
       "        vertical-align: top;\n",
       "    }\n",
       "\n",
       "    .dataframe thead th {\n",
       "        text-align: right;\n",
       "    }\n",
       "</style>\n",
       "<table border=\"1\" class=\"dataframe\">\n",
       "  <thead>\n",
       "    <tr style=\"text-align: right;\">\n",
       "      <th></th>\n",
       "      <th>Saved Date</th>\n",
       "      <th>New DF</th>\n",
       "      <th>diff</th>\n",
       "    </tr>\n",
       "  </thead>\n",
       "  <tbody>\n",
       "    <tr>\n",
       "      <th>0</th>\n",
       "      <td>1/2/23, 4:54 AM</td>\n",
       "      <td>2023-01-02 04:54:00</td>\n",
       "      <td>NaT</td>\n",
       "    </tr>\n",
       "    <tr>\n",
       "      <th>1</th>\n",
       "      <td>4/15/23, 2:37 PM</td>\n",
       "      <td>2023-04-15 14:37:00</td>\n",
       "      <td>103 days 09:43:00</td>\n",
       "    </tr>\n",
       "    <tr>\n",
       "      <th>2</th>\n",
       "      <td>1/10/23, 11:11 AM</td>\n",
       "      <td>2023-01-10 11:11:00</td>\n",
       "      <td>95 days 03:26:00</td>\n",
       "    </tr>\n",
       "    <tr>\n",
       "      <th>3</th>\n",
       "      <td>1/5/23, 4:25 PM</td>\n",
       "      <td>2023-01-05 16:25:00</td>\n",
       "      <td>4 days 18:46:00</td>\n",
       "    </tr>\n",
       "    <tr>\n",
       "      <th>4</th>\n",
       "      <td>1/14/23, 9:01 AM</td>\n",
       "      <td>2023-01-14 09:01:00</td>\n",
       "      <td>8 days 16:36:00</td>\n",
       "    </tr>\n",
       "    <tr>\n",
       "      <th>...</th>\n",
       "      <td>...</td>\n",
       "      <td>...</td>\n",
       "      <td>...</td>\n",
       "    </tr>\n",
       "    <tr>\n",
       "      <th>57</th>\n",
       "      <td>1/5/23, 4:19 PM</td>\n",
       "      <td>2023-01-05 16:19:00</td>\n",
       "      <td>8 days 05:35:00</td>\n",
       "    </tr>\n",
       "    <tr>\n",
       "      <th>58</th>\n",
       "      <td>1/9/23, 12:22 PM</td>\n",
       "      <td>2023-01-09 12:22:00</td>\n",
       "      <td>3 days 20:03:00</td>\n",
       "    </tr>\n",
       "    <tr>\n",
       "      <th>59</th>\n",
       "      <td>3/17/23, 1:32 PM</td>\n",
       "      <td>2023-03-17 13:32:00</td>\n",
       "      <td>67 days 01:10:00</td>\n",
       "    </tr>\n",
       "    <tr>\n",
       "      <th>60</th>\n",
       "      <td>1/5/23, 4:19 PM</td>\n",
       "      <td>2023-01-05 16:19:00</td>\n",
       "      <td>70 days 21:13:00</td>\n",
       "    </tr>\n",
       "    <tr>\n",
       "      <th>61</th>\n",
       "      <td>2/11/23, 12:11 AM</td>\n",
       "      <td>2023-02-11 00:11:00</td>\n",
       "      <td>36 days 07:52:00</td>\n",
       "    </tr>\n",
       "  </tbody>\n",
       "</table>\n",
       "<p>62 rows × 3 columns</p>\n",
       "</div>"
      ],
      "text/plain": [
       "           Saved Date              New DF              diff\n",
       "0     1/2/23, 4:54 AM 2023-01-02 04:54:00               NaT\n",
       "1    4/15/23, 2:37 PM 2023-04-15 14:37:00 103 days 09:43:00\n",
       "2   1/10/23, 11:11 AM 2023-01-10 11:11:00  95 days 03:26:00\n",
       "3     1/5/23, 4:25 PM 2023-01-05 16:25:00   4 days 18:46:00\n",
       "4    1/14/23, 9:01 AM 2023-01-14 09:01:00   8 days 16:36:00\n",
       "..                ...                 ...               ...\n",
       "57    1/5/23, 4:19 PM 2023-01-05 16:19:00   8 days 05:35:00\n",
       "58   1/9/23, 12:22 PM 2023-01-09 12:22:00   3 days 20:03:00\n",
       "59   3/17/23, 1:32 PM 2023-03-17 13:32:00  67 days 01:10:00\n",
       "60    1/5/23, 4:19 PM 2023-01-05 16:19:00  70 days 21:13:00\n",
       "61  2/11/23, 12:11 AM 2023-02-11 00:11:00  36 days 07:52:00\n",
       "\n",
       "[62 rows x 3 columns]"
      ]
     },
     "execution_count": 575,
     "metadata": {},
     "output_type": "execute_result"
    }
   ],
   "source": [
    "# dig on to get the absolute different between days that he get to access his linkdln\n",
    "df_DateTimes['diff'] = df_DateTimes['diff'].abs()\n",
    "df_DateTimes"
   ]
  },
  {
   "cell_type": "markdown",
   "metadata": {},
   "source": [
    "from the data above you can see that with Ahmadou data there are times difference and this mostly has a wide length of time that differencita them as for the first one there are 103 days. \n"
   ]
  },
  {
   "cell_type": "markdown",
   "metadata": {},
   "source": [
    "what is the longest time between the timestamps.\n",
    " the asnswer is shwon below on the result of the code which are Timedelta('129 days 16:12:00')\n"
   ]
  },
  {
   "cell_type": "code",
   "execution_count": 576,
   "metadata": {},
   "outputs": [
    {
     "data": {
      "text/plain": [
       "Timedelta('129 days 16:12:00')"
      ]
     },
     "execution_count": 576,
     "metadata": {},
     "output_type": "execute_result"
    }
   ],
   "source": [
    "df_DateTimes[\"diff\"].max()"
   ]
  },
  {
   "cell_type": "markdown",
   "metadata": {},
   "source": [
    "the average timestamps are Timedelta('38 days 23:33:07.868852')\n"
   ]
  },
  {
   "cell_type": "code",
   "execution_count": 577,
   "metadata": {},
   "outputs": [
    {
     "data": {
      "text/plain": [
       "Timedelta('38 days 23:33:07.868852')"
      ]
     },
     "execution_count": 577,
     "metadata": {},
     "output_type": "execute_result"
    }
   ],
   "source": [
    "df_DateTimes[\"diff\"].mean()"
   ]
  },
  {
   "cell_type": "markdown",
   "metadata": {},
   "source": [
    "What is the day with the most timestamps? How many events (timestamps) were on that day?\n",
    "\n",
    "answer: see code below."
   ]
  },
  {
   "cell_type": "code",
   "execution_count": 578,
   "metadata": {},
   "outputs": [
    {
     "data": {
      "text/html": [
       "<div>\n",
       "<style scoped>\n",
       "    .dataframe tbody tr th:only-of-type {\n",
       "        vertical-align: middle;\n",
       "    }\n",
       "\n",
       "    .dataframe tbody tr th {\n",
       "        vertical-align: top;\n",
       "    }\n",
       "\n",
       "    .dataframe thead th {\n",
       "        text-align: right;\n",
       "    }\n",
       "</style>\n",
       "<table border=\"1\" class=\"dataframe\">\n",
       "  <thead>\n",
       "    <tr style=\"text-align: right;\">\n",
       "      <th></th>\n",
       "      <th>Saved Date</th>\n",
       "      <th>New DF</th>\n",
       "      <th>diff</th>\n",
       "    </tr>\n",
       "  </thead>\n",
       "  <tbody>\n",
       "    <tr>\n",
       "      <th>0</th>\n",
       "      <td>1/2/23, 4:54 AM</td>\n",
       "      <td>2023-01-02 04:54:00</td>\n",
       "      <td>NaT</td>\n",
       "    </tr>\n",
       "    <tr>\n",
       "      <th>1</th>\n",
       "      <td>4/15/23, 2:37 PM</td>\n",
       "      <td>2023-04-15 14:37:00</td>\n",
       "      <td>103 days 09:43:00</td>\n",
       "    </tr>\n",
       "    <tr>\n",
       "      <th>2</th>\n",
       "      <td>1/10/23, 11:11 AM</td>\n",
       "      <td>2023-01-10 11:11:00</td>\n",
       "      <td>95 days 03:26:00</td>\n",
       "    </tr>\n",
       "    <tr>\n",
       "      <th>3</th>\n",
       "      <td>1/5/23, 4:25 PM</td>\n",
       "      <td>2023-01-05 16:25:00</td>\n",
       "      <td>4 days 18:46:00</td>\n",
       "    </tr>\n",
       "    <tr>\n",
       "      <th>4</th>\n",
       "      <td>1/14/23, 9:01 AM</td>\n",
       "      <td>2023-01-14 09:01:00</td>\n",
       "      <td>8 days 16:36:00</td>\n",
       "    </tr>\n",
       "    <tr>\n",
       "      <th>...</th>\n",
       "      <td>...</td>\n",
       "      <td>...</td>\n",
       "      <td>...</td>\n",
       "    </tr>\n",
       "    <tr>\n",
       "      <th>57</th>\n",
       "      <td>1/5/23, 4:19 PM</td>\n",
       "      <td>2023-01-05 16:19:00</td>\n",
       "      <td>8 days 05:35:00</td>\n",
       "    </tr>\n",
       "    <tr>\n",
       "      <th>58</th>\n",
       "      <td>1/9/23, 12:22 PM</td>\n",
       "      <td>2023-01-09 12:22:00</td>\n",
       "      <td>3 days 20:03:00</td>\n",
       "    </tr>\n",
       "    <tr>\n",
       "      <th>59</th>\n",
       "      <td>3/17/23, 1:32 PM</td>\n",
       "      <td>2023-03-17 13:32:00</td>\n",
       "      <td>67 days 01:10:00</td>\n",
       "    </tr>\n",
       "    <tr>\n",
       "      <th>60</th>\n",
       "      <td>1/5/23, 4:19 PM</td>\n",
       "      <td>2023-01-05 16:19:00</td>\n",
       "      <td>70 days 21:13:00</td>\n",
       "    </tr>\n",
       "    <tr>\n",
       "      <th>61</th>\n",
       "      <td>2/11/23, 12:11 AM</td>\n",
       "      <td>2023-02-11 00:11:00</td>\n",
       "      <td>36 days 07:52:00</td>\n",
       "    </tr>\n",
       "  </tbody>\n",
       "</table>\n",
       "<p>62 rows × 3 columns</p>\n",
       "</div>"
      ],
      "text/plain": [
       "           Saved Date              New DF              diff\n",
       "0     1/2/23, 4:54 AM 2023-01-02 04:54:00               NaT\n",
       "1    4/15/23, 2:37 PM 2023-04-15 14:37:00 103 days 09:43:00\n",
       "2   1/10/23, 11:11 AM 2023-01-10 11:11:00  95 days 03:26:00\n",
       "3     1/5/23, 4:25 PM 2023-01-05 16:25:00   4 days 18:46:00\n",
       "4    1/14/23, 9:01 AM 2023-01-14 09:01:00   8 days 16:36:00\n",
       "..                ...                 ...               ...\n",
       "57    1/5/23, 4:19 PM 2023-01-05 16:19:00   8 days 05:35:00\n",
       "58   1/9/23, 12:22 PM 2023-01-09 12:22:00   3 days 20:03:00\n",
       "59   3/17/23, 1:32 PM 2023-03-17 13:32:00  67 days 01:10:00\n",
       "60    1/5/23, 4:19 PM 2023-01-05 16:19:00  70 days 21:13:00\n",
       "61  2/11/23, 12:11 AM 2023-02-11 00:11:00  36 days 07:52:00\n",
       "\n",
       "[62 rows x 3 columns]"
      ]
     },
     "execution_count": 578,
     "metadata": {},
     "output_type": "execute_result"
    }
   ],
   "source": [
    "df_DateTimes[\"New DF\"] = pd.to_datetime(df_DateTimes[\"Saved Date\"])\n",
    "df_DateTimes"
   ]
  },
  {
   "cell_type": "markdown",
   "metadata": {},
   "source": [
    "answer is below just a reminder\n"
   ]
  },
  {
   "cell_type": "code",
   "execution_count": 609,
   "metadata": {},
   "outputs": [
    {
     "data": {
      "text/plain": [
       "0     2023-01-02\n",
       "1     2023-04-15\n",
       "2     2023-01-10\n",
       "3     2023-01-05\n",
       "4     2023-01-14\n",
       "         ...    \n",
       "57    2023-01-05\n",
       "58    2023-01-09\n",
       "59    2023-03-17\n",
       "60    2023-01-05\n",
       "61    2023-02-11\n",
       "Name: New DF, Length: 62, dtype: object"
      ]
     },
     "execution_count": 609,
     "metadata": {},
     "output_type": "execute_result"
    }
   ],
   "source": [
    "longest_days = df_DateTimes[\"New DF\"].dt.strftime(\"%Y-%m-%d\")\n",
    "longest_days"
   ]
  },
  {
   "cell_type": "markdown",
   "metadata": {},
   "source": [
    "Count in days.\n"
   ]
  },
  {
   "cell_type": "code",
   "execution_count": 580,
   "metadata": {},
   "outputs": [
    {
     "data": {
      "text/plain": [
       "{'2023-01-02': 1,\n",
       " '2023-04-15': 3,\n",
       " '2023-01-10': 2,\n",
       " '2023-01-05': 7,\n",
       " '2023-01-14': 2,\n",
       " '2022-12-23': 4,\n",
       " '2022-11-27': 5,\n",
       " '2023-01-27': 3,\n",
       " '2023-01-13': 5,\n",
       " '2023-01-11': 4,\n",
       " '2023-02-23': 3,\n",
       " '2023-01-28': 1,\n",
       " '2022-12-14': 2,\n",
       " '2023-03-31': 1,\n",
       " '2023-01-09': 2,\n",
       " '2023-02-11': 3,\n",
       " '2023-01-29': 1,\n",
       " '2023-03-17': 5,\n",
       " '2023-02-27': 1,\n",
       " '2023-01-30': 1,\n",
       " '2023-04-05': 3,\n",
       " '2023-03-29': 1,\n",
       " '2023-01-20': 1,\n",
       " '2023-01-18': 1}"
      ]
     },
     "execution_count": 580,
     "metadata": {},
     "output_type": "execute_result"
    }
   ],
   "source": [
    "dayCount = {}\n",
    "for day in days: \n",
    "    if day not in dayCount: \n",
    "        dayCount[day] = 0\n",
    "    dayCount[day] = dayCount[day] + 1\n",
    "dayCount"
   ]
  },
  {
   "cell_type": "markdown",
   "metadata": {},
   "source": [
    "Max use\n"
   ]
  },
  {
   "cell_type": "code",
   "execution_count": 581,
   "metadata": {},
   "outputs": [
    {
     "name": "stdout",
     "output_type": "stream",
     "text": [
      "The day with the most timestamps is: 2023-01-05 with 7 uses.\n"
     ]
    }
   ],
   "source": [
    "maxUse = -1\n",
    "maxDay = None \n",
    "for day in dayCount: \n",
    "    if dayCount[day] > maxUse: \n",
    "        maxUse = dayCount[day]\n",
    "        maxDay = day\n",
    "\n",
    "print(\"The day with the most timestamps is: \" + str(maxDay) + \" with \" + str(maxUse) + \" uses.\")"
   ]
  },
  {
   "cell_type": "code",
   "execution_count": 582,
   "metadata": {},
   "outputs": [],
   "source": [
    "df_DateTimes[\"New DF\"] = pd.to_datetime(df_DateTimes[\"Saved Date\"])"
   ]
  },
  {
   "cell_type": "code",
   "execution_count": 583,
   "metadata": {},
   "outputs": [
    {
     "data": {
      "text/plain": [
       "0     2023-01\n",
       "1     2023-04\n",
       "2     2023-01\n",
       "3     2023-01\n",
       "4     2023-01\n",
       "       ...   \n",
       "57    2023-01\n",
       "58    2023-01\n",
       "59    2023-03\n",
       "60    2023-01\n",
       "61    2023-02\n",
       "Name: New DF, Length: 62, dtype: object"
      ]
     },
     "execution_count": 583,
     "metadata": {},
     "output_type": "execute_result"
    }
   ],
   "source": [
    "months = df_DateTimes[\"New DF\"].dt.strftime(\"%Y-%m\")\n",
    "months"
   ]
  },
  {
   "cell_type": "markdown",
   "metadata": {},
   "source": [
    "Weeks "
   ]
  },
  {
   "cell_type": "code",
   "execution_count": 584,
   "metadata": {},
   "outputs": [
    {
     "data": {
      "text/plain": [
       "0     2023-01-1\n",
       "1     2023-04-6\n",
       "2     2023-01-2\n",
       "3     2023-01-4\n",
       "4     2023-01-6\n",
       "        ...    \n",
       "57    2023-01-4\n",
       "58    2023-01-1\n",
       "59    2023-03-5\n",
       "60    2023-01-4\n",
       "61    2023-02-6\n",
       "Name: New DF, Length: 62, dtype: object"
      ]
     },
     "execution_count": 584,
     "metadata": {},
     "output_type": "execute_result"
    }
   ],
   "source": [
    "weeks = df_DateTimes[\"New DF\"].dt.strftime(\"%Y-%m-%w\")\n",
    "weeks"
   ]
  },
  {
   "cell_type": "markdown",
   "metadata": {},
   "source": [
    "Month with the most timestamps"
   ]
  },
  {
   "cell_type": "code",
   "execution_count": 585,
   "metadata": {},
   "outputs": [
    {
     "data": {
      "text/plain": [
       "{'2023-01': 31,\n",
       " '2023-04': 6,\n",
       " '2022-12': 6,\n",
       " '2022-11': 5,\n",
       " '2023-02': 7,\n",
       " '2023-03': 7}"
      ]
     },
     "execution_count": 585,
     "metadata": {},
     "output_type": "execute_result"
    }
   ],
   "source": [
    "monthCount = {}\n",
    "for month in months: \n",
    "    if month not in monthCount: \n",
    "        monthCount[month] = 0\n",
    "    monthCount[month] = monthCount[month] + 1\n",
    "monthCount"
   ]
  },
  {
   "cell_type": "markdown",
   "metadata": {},
   "source": [
    "Max use month"
   ]
  },
  {
   "cell_type": "code",
   "execution_count": 586,
   "metadata": {},
   "outputs": [
    {
     "name": "stdout",
     "output_type": "stream",
     "text": [
      "The month with the most timestamps is: 2023-02 with 7 uses.\n"
     ]
    }
   ],
   "source": [
    "maxMonthUse = -1\n",
    "maxMonth = None \n",
    "for day in monthCount: \n",
    "    if monthCount[month] > maxMonthUse: \n",
    "        maxMonthUse = monthCount[month]\n",
    "        maxMonth = month\n",
    "print(\"The month with the most timestamps is: \" + str(maxMonth) + \" with \" + str(maxMonthUse) + \" uses.\")"
   ]
  },
  {
   "cell_type": "markdown",
   "metadata": {},
   "source": [
    "I did consult with Ahmadou and Told me that my data was requested from Googe and Yeah he is right. \n",
    "However, with his data I found more difficultyy to use maybe because as i told him he resquested his data through linkdn and I found it really hard to read with the timestamps. \n",
    "with the rest of the questions see coe  and answer above. "
   ]
  },
  {
   "cell_type": "markdown",
   "metadata": {},
   "source": [
    "## Part 3: Make a combined visualization"
   ]
  },
  {
   "cell_type": "code",
   "execution_count": 587,
   "metadata": {
    "scrolled": true
   },
   "outputs": [
    {
     "data": {
      "text/html": [
       "<div>\n",
       "<style scoped>\n",
       "    .dataframe tbody tr th:only-of-type {\n",
       "        vertical-align: middle;\n",
       "    }\n",
       "\n",
       "    .dataframe tbody tr th {\n",
       "        vertical-align: top;\n",
       "    }\n",
       "\n",
       "    .dataframe thead th {\n",
       "        text-align: right;\n",
       "    }\n",
       "</style>\n",
       "<table border=\"1\" class=\"dataframe\">\n",
       "  <thead>\n",
       "    <tr style=\"text-align: right;\">\n",
       "      <th></th>\n",
       "      <th>Saved Date</th>\n",
       "      <th>New DF</th>\n",
       "      <th>diff</th>\n",
       "    </tr>\n",
       "  </thead>\n",
       "  <tbody>\n",
       "    <tr>\n",
       "      <th>0</th>\n",
       "      <td>1/2/23, 4:54 AM</td>\n",
       "      <td>2023-01-02 04:54:00</td>\n",
       "      <td>NaT</td>\n",
       "    </tr>\n",
       "    <tr>\n",
       "      <th>1</th>\n",
       "      <td>4/15/23, 2:37 PM</td>\n",
       "      <td>2023-04-15 14:37:00</td>\n",
       "      <td>103 days 09:43:00</td>\n",
       "    </tr>\n",
       "    <tr>\n",
       "      <th>2</th>\n",
       "      <td>1/10/23, 11:11 AM</td>\n",
       "      <td>2023-01-10 11:11:00</td>\n",
       "      <td>95 days 03:26:00</td>\n",
       "    </tr>\n",
       "    <tr>\n",
       "      <th>3</th>\n",
       "      <td>1/5/23, 4:25 PM</td>\n",
       "      <td>2023-01-05 16:25:00</td>\n",
       "      <td>4 days 18:46:00</td>\n",
       "    </tr>\n",
       "    <tr>\n",
       "      <th>4</th>\n",
       "      <td>1/14/23, 9:01 AM</td>\n",
       "      <td>2023-01-14 09:01:00</td>\n",
       "      <td>8 days 16:36:00</td>\n",
       "    </tr>\n",
       "    <tr>\n",
       "      <th>...</th>\n",
       "      <td>...</td>\n",
       "      <td>...</td>\n",
       "      <td>...</td>\n",
       "    </tr>\n",
       "    <tr>\n",
       "      <th>57</th>\n",
       "      <td>1/5/23, 4:19 PM</td>\n",
       "      <td>2023-01-05 16:19:00</td>\n",
       "      <td>8 days 05:35:00</td>\n",
       "    </tr>\n",
       "    <tr>\n",
       "      <th>58</th>\n",
       "      <td>1/9/23, 12:22 PM</td>\n",
       "      <td>2023-01-09 12:22:00</td>\n",
       "      <td>3 days 20:03:00</td>\n",
       "    </tr>\n",
       "    <tr>\n",
       "      <th>59</th>\n",
       "      <td>3/17/23, 1:32 PM</td>\n",
       "      <td>2023-03-17 13:32:00</td>\n",
       "      <td>67 days 01:10:00</td>\n",
       "    </tr>\n",
       "    <tr>\n",
       "      <th>60</th>\n",
       "      <td>1/5/23, 4:19 PM</td>\n",
       "      <td>2023-01-05 16:19:00</td>\n",
       "      <td>70 days 21:13:00</td>\n",
       "    </tr>\n",
       "    <tr>\n",
       "      <th>61</th>\n",
       "      <td>2/11/23, 12:11 AM</td>\n",
       "      <td>2023-02-11 00:11:00</td>\n",
       "      <td>36 days 07:52:00</td>\n",
       "    </tr>\n",
       "  </tbody>\n",
       "</table>\n",
       "<p>62 rows × 3 columns</p>\n",
       "</div>"
      ],
      "text/plain": [
       "           Saved Date              New DF              diff\n",
       "0     1/2/23, 4:54 AM 2023-01-02 04:54:00               NaT\n",
       "1    4/15/23, 2:37 PM 2023-04-15 14:37:00 103 days 09:43:00\n",
       "2   1/10/23, 11:11 AM 2023-01-10 11:11:00  95 days 03:26:00\n",
       "3     1/5/23, 4:25 PM 2023-01-05 16:25:00   4 days 18:46:00\n",
       "4    1/14/23, 9:01 AM 2023-01-14 09:01:00   8 days 16:36:00\n",
       "..                ...                 ...               ...\n",
       "57    1/5/23, 4:19 PM 2023-01-05 16:19:00   8 days 05:35:00\n",
       "58   1/9/23, 12:22 PM 2023-01-09 12:22:00   3 days 20:03:00\n",
       "59   3/17/23, 1:32 PM 2023-03-17 13:32:00  67 days 01:10:00\n",
       "60    1/5/23, 4:19 PM 2023-01-05 16:19:00  70 days 21:13:00\n",
       "61  2/11/23, 12:11 AM 2023-02-11 00:11:00  36 days 07:52:00\n",
       "\n",
       "[62 rows x 3 columns]"
      ]
     },
     "execution_count": 587,
     "metadata": {},
     "output_type": "execute_result"
    }
   ],
   "source": [
    "# I just called the date time just to see if I can read the dtimestamps that I formated\n",
    "df_DateTimes"
   ]
  },
  {
   "cell_type": "code",
   "execution_count": 588,
   "metadata": {},
   "outputs": [
    {
     "data": {
      "text/plain": [
       "0    2023-01-02 04:54:00\n",
       "1    2023-04-15 14:37:00\n",
       "2    2023-01-10 11:11:00\n",
       "3    2023-01-05 16:25:00\n",
       "4    2023-01-14 09:01:00\n",
       "             ...        \n",
       "57   2023-01-05 16:19:00\n",
       "58   2023-01-09 12:22:00\n",
       "59   2023-03-17 13:32:00\n",
       "60   2023-01-05 16:19:00\n",
       "61   2023-02-11 00:11:00\n",
       "Name: New DF, Length: 62, dtype: datetime64[ns]"
      ]
     },
     "execution_count": 588,
     "metadata": {},
     "output_type": "execute_result"
    }
   ],
   "source": [
    "# here is me calling the Ned DF I created above\n",
    "df_DateTimes[\"New DF\"]"
   ]
  },
  {
   "cell_type": "code",
   "execution_count": 589,
   "metadata": {},
   "outputs": [],
   "source": [
    "# I assigned the df_calender to df1 abd so that I can concatenate it with my partner data\n",
    "df1 = pd.DataFrame( df_calender[\"2020-09-04 21:00:00+02:00\"])"
   ]
  },
  {
   "cell_type": "code",
   "execution_count": 590,
   "metadata": {},
   "outputs": [],
   "source": [
    "# i assigned my data to df1 and Ahmadou's data to df2. \n",
    "#and I used the concat function to concatenate the two data\n",
    "df1 = pd.DataFrame(df_Ousma['New Format'])\n",
    "df2 = pd.DataFrame(df_DateTimes['New DF'])\n",
    "df_concat = pd.concat([df1, df2], axis=1)"
   ]
  },
  {
   "cell_type": "markdown",
   "metadata": {},
   "source": [
    "See result below"
   ]
  },
  {
   "cell_type": "code",
   "execution_count": 591,
   "metadata": {},
   "outputs": [
    {
     "data": {
      "text/html": [
       "<div>\n",
       "<style scoped>\n",
       "    .dataframe tbody tr th:only-of-type {\n",
       "        vertical-align: middle;\n",
       "    }\n",
       "\n",
       "    .dataframe tbody tr th {\n",
       "        vertical-align: top;\n",
       "    }\n",
       "\n",
       "    .dataframe thead th {\n",
       "        text-align: right;\n",
       "    }\n",
       "</style>\n",
       "<table border=\"1\" class=\"dataframe\">\n",
       "  <thead>\n",
       "    <tr style=\"text-align: right;\">\n",
       "      <th></th>\n",
       "      <th>New Format</th>\n",
       "      <th>New DF</th>\n",
       "    </tr>\n",
       "  </thead>\n",
       "  <tbody>\n",
       "    <tr>\n",
       "      <th>0</th>\n",
       "      <td>2020-10-09 18:00:00+00:00</td>\n",
       "      <td>2023-01-02 04:54:00</td>\n",
       "    </tr>\n",
       "    <tr>\n",
       "      <th>1</th>\n",
       "      <td>2020-10-14 21:00:00+00:00</td>\n",
       "      <td>2023-04-15 14:37:00</td>\n",
       "    </tr>\n",
       "    <tr>\n",
       "      <th>2</th>\n",
       "      <td>2020-10-15 19:00:00+00:00</td>\n",
       "      <td>2023-01-10 11:11:00</td>\n",
       "    </tr>\n",
       "    <tr>\n",
       "      <th>3</th>\n",
       "      <td>2020-11-12 17:30:00+00:00</td>\n",
       "      <td>2023-01-05 16:25:00</td>\n",
       "    </tr>\n",
       "    <tr>\n",
       "      <th>4</th>\n",
       "      <td>2020-11-13 22:15:00+00:00</td>\n",
       "      <td>2023-01-14 09:01:00</td>\n",
       "    </tr>\n",
       "    <tr>\n",
       "      <th>...</th>\n",
       "      <td>...</td>\n",
       "      <td>...</td>\n",
       "    </tr>\n",
       "    <tr>\n",
       "      <th>167</th>\n",
       "      <td>2023-04-30 15:00:00+00:00</td>\n",
       "      <td>NaT</td>\n",
       "    </tr>\n",
       "    <tr>\n",
       "      <th>168</th>\n",
       "      <td>2023-02-26 16:00:00+00:00</td>\n",
       "      <td>NaT</td>\n",
       "    </tr>\n",
       "    <tr>\n",
       "      <th>169</th>\n",
       "      <td>2023-03-01 21:00:00+00:00</td>\n",
       "      <td>NaT</td>\n",
       "    </tr>\n",
       "    <tr>\n",
       "      <th>170</th>\n",
       "      <td>2023-03-01 19:00:00+00:00</td>\n",
       "      <td>NaT</td>\n",
       "    </tr>\n",
       "    <tr>\n",
       "      <th>171</th>\n",
       "      <td>2023-04-07 20:00:00+00:00</td>\n",
       "      <td>NaT</td>\n",
       "    </tr>\n",
       "  </tbody>\n",
       "</table>\n",
       "<p>172 rows × 2 columns</p>\n",
       "</div>"
      ],
      "text/plain": [
       "                    New Format              New DF\n",
       "0    2020-10-09 18:00:00+00:00 2023-01-02 04:54:00\n",
       "1    2020-10-14 21:00:00+00:00 2023-04-15 14:37:00\n",
       "2    2020-10-15 19:00:00+00:00 2023-01-10 11:11:00\n",
       "3    2020-11-12 17:30:00+00:00 2023-01-05 16:25:00\n",
       "4    2020-11-13 22:15:00+00:00 2023-01-14 09:01:00\n",
       "..                         ...                 ...\n",
       "167  2023-04-30 15:00:00+00:00                 NaT\n",
       "168  2023-02-26 16:00:00+00:00                 NaT\n",
       "169  2023-03-01 21:00:00+00:00                 NaT\n",
       "170  2023-03-01 19:00:00+00:00                 NaT\n",
       "171  2023-04-07 20:00:00+00:00                 NaT\n",
       "\n",
       "[172 rows x 2 columns]"
      ]
     },
     "execution_count": 591,
     "metadata": {},
     "output_type": "execute_result"
    }
   ],
   "source": [
    "df_concat"
   ]
  },
  {
   "cell_type": "code",
   "execution_count": 592,
   "metadata": {},
   "outputs": [
    {
     "data": {
      "text/plain": [
       "(172, 62)"
      ]
     },
     "execution_count": 592,
     "metadata": {},
     "output_type": "execute_result"
    }
   ],
   "source": [
    "# I found the lenght of the two data just to see the difference \n",
    "len(df1), len(df2)"
   ]
  },
  {
   "cell_type": "markdown",
   "metadata": {},
   "source": [
    "See the first plot I made below, and with this plot it seems like that Ahmadou's data and my data are really not correlated and so tthe line are almost everywhere."
   ]
  },
  {
   "cell_type": "code",
   "execution_count": 593,
   "metadata": {},
   "outputs": [
    {
     "data": {
      "image/png": "[encoded data removed]",
      "text/plain": [
       "<Figure size 432x288 with 1 Axes>"
      ]
     },
     "metadata": {
      "needs_background": "light"
     },
     "output_type": "display_data"
    }
   ],
   "source": [
    "import matplotlib.pyplot as plt\n",
    "\n",
    "plt.plot(df_concat['New Format'], df_concat['New DF'], 'o-')\n",
    "plt.xlabel('New Format')\n",
    "plt.ylabel('New DF')\n",
    "plt.title('Ahmadou and Ousmane data concatenated')\n",
    "plt.show()"
   ]
  },
  {
   "cell_type": "markdown",
   "metadata": {},
   "source": [
    "As the one above was not that good looking I choose to plot thir histogram separetly so see result below. \n",
    "\n"
   ]
  },
  {
   "cell_type": "code",
   "execution_count": 594,
   "metadata": {
    "scrolled": true
   },
   "outputs": [
    {
     "name": "stderr",
     "output_type": "stream",
     "text": [
      "C:\\Users\\ousma\\anaconda3\\lib\\site-packages\\numpy\\lib\\histograms.py:839: RuntimeWarning: invalid value encountered in greater_equal\n",
      "  keep = (tmp_a >= first_edge)\n",
      "C:\\Users\\ousma\\anaconda3\\lib\\site-packages\\numpy\\lib\\histograms.py:840: RuntimeWarning: invalid value encountered in less_equal\n",
      "  keep &= (tmp_a <= last_edge)\n"
     ]
    },
    {
     "data": {
      "image/png": "[encoded data removed]",
      "text/plain": [
       "<Figure size 432x288 with 1 Axes>"
      ]
     },
     "metadata": {
      "needs_background": "light"
     },
     "output_type": "display_data"
    }
   ],
   "source": [
    "# create two sample dataframes\n",
    "df2 = pd.DataFrame(df_DateTimes['New DF'])\n",
    "\n",
    "# plot the concatenated dataframe as a histogram\n",
    "plt.hist(df_concat['New DF'])\n",
    "plt.xlabel('New DF')\n",
    "plt.ylabel('Frequency')\n",
    "plt.title('Ahmadou linkdn histogram use dates and times')\n",
    "plt.show()"
   ]
  },
  {
   "cell_type": "markdown",
   "metadata": {},
   "source": [
    "As you can see for the month of january t february 2023 Ahmadou use linkdln the most and this is reasonable to me because at this time many students are looking for internships.\n",
    "\n",
    "\n"
   ]
  },
  {
   "cell_type": "code",
   "execution_count": 595,
   "metadata": {
    "scrolled": true
   },
   "outputs": [
    {
     "data": {
      "image/png": "[encoded data removed]",
      "text/plain": [
       "<Figure size 432x288 with 1 Axes>"
      ]
     },
     "metadata": {
      "needs_background": "light"
     },
     "output_type": "display_data"
    }
   ],
   "source": [
    "# create two sample dataframes\n",
    "df1 = pd.DataFrame(df_Ousma['New Format'])\n",
    "\n",
    "# plot the concatenated dataframe as a histogram\n",
    "plt.hist(df_concat['New Format'])\n",
    "plt.xlabel('New Format')\n",
    "plt.ylabel('Frequency')\n",
    "plt.title('Ousmane Calender Histogram')\n",
    "plt.show()"
   ]
  },
  {
   "cell_type": "markdown",
   "metadata": {},
   "source": [
    "For Ousmane Data instead you can see that september 2020 haa mostly ofthe calender use and this I assume it can be because at that period there was covid hoinh on and teachers and studentds mainly interact virtually. \n"
   ]
  },
  {
   "cell_type": "markdown",
   "metadata": {},
   "source": [
    "## Part 4: Analyze and visualize an additional data from your personal data"
   ]
  },
  {
   "cell_type": "code",
   "execution_count": 596,
   "metadata": {},
   "outputs": [],
   "source": [
    "# I ran my personal data again\n",
    "df_calender = pd.read_csv(\"Calender.csv\")"
   ]
  },
  {
   "cell_type": "code",
   "execution_count": 597,
   "metadata": {
    "scrolled": true
   },
   "outputs": [
    {
     "data": {
      "text/html": [
       "<div>\n",
       "<style scoped>\n",
       "    .dataframe tbody tr th:only-of-type {\n",
       "        vertical-align: middle;\n",
       "    }\n",
       "\n",
       "    .dataframe tbody tr th {\n",
       "        vertical-align: top;\n",
       "    }\n",
       "\n",
       "    .dataframe thead th {\n",
       "        text-align: right;\n",
       "    }\n",
       "</style>\n",
       "<table border=\"1\" class=\"dataframe\">\n",
       "  <thead>\n",
       "    <tr style=\"text-align: right;\">\n",
       "      <th></th>\n",
       "      <th>SA Student Drop in Hour</th>\n",
       "      <th>2020-09-04 21:00:00+02:00</th>\n",
       "      <th>2020-09-04 23:00:00+02:00</th>\n",
       "      <th>Maria Martinez is inviting you to a scheduled Zoom meeting.\\n\\nJoin Zoom Meeting\\nhttps://whitman.zoom.us/j/91236182747\\n\\nMeeting ID: 912 3618 2747\\nOne tap mobile\\n+13017158592,,91236182747# US (Germantown)\\n+13126266799,,91236182747# US (Chicago)\\n\\nDial by your location\\n        +1 301 715 8592 US (Germantown)\\n        +1 312 626 6799 US (Chicago)\\n        +1 346 248 7799 US (Houston)\\n        +1 646 558 8656 US (New York)\\n        +1 669 900 6833 US (San Jose)\\n        +1 253 215 8782 US (Tacoma)\\nMeeting ID: 912 3618 2747\\nFind your local number: https://whitman.zoom.us/u/ac8G2Ghl0Z</th>\n",
       "      <th>https://whitman.zoom.us/j/91236182747</th>\n",
       "    </tr>\n",
       "  </thead>\n",
       "  <tbody>\n",
       "    <tr>\n",
       "      <th>0</th>\n",
       "      <td>Ousmane - 30-minuite</td>\n",
       "      <td>2020-10-09 18:00:00+00:00</td>\n",
       "      <td>2020-10-09 18:30:00+00:00</td>\n",
       "      <td>Attendee:\\nOusmane (barryo@whitman.edu)\\n\\nEve...</td>\n",
       "      <td>https://whitman.zoom.us/j/92372124135?pwd=SVJr...</td>\n",
       "    </tr>\n",
       "    <tr>\n",
       "      <th>1</th>\n",
       "      <td>Ousmane - 30-minuite</td>\n",
       "      <td>2020-10-14 21:00:00+00:00</td>\n",
       "      <td>2020-10-14 21:30:00+00:00</td>\n",
       "      <td>Attendee:\\nOusmane (barryo@whitman.edu)\\n\\nEve...</td>\n",
       "      <td>https://whitman.zoom.us/j/99286051474?pwd=Z1Jp...</td>\n",
       "    </tr>\n",
       "    <tr>\n",
       "      <th>2</th>\n",
       "      <td>Ousmane - 60-minute</td>\n",
       "      <td>2020-10-15 19:00:00+00:00</td>\n",
       "      <td>2020-10-15 20:00:00+00:00</td>\n",
       "      <td>Attendee:\\nOusmane (barryo@whitman.edu)\\n\\nEve...</td>\n",
       "      <td>https://whitman.zoom.us/j/92347059655?pwd=QWpJ...</td>\n",
       "    </tr>\n",
       "    <tr>\n",
       "      <th>3</th>\n",
       "      <td>Ousmane - 30-minuite</td>\n",
       "      <td>2020-11-12 17:30:00+00:00</td>\n",
       "      <td>2020-11-12 18:00:00+00:00</td>\n",
       "      <td>Attendee:\\nOusmane (barryo@whitman.edu)\\n\\nEve...</td>\n",
       "      <td>https://whitman.zoom.us/j/91311814636?pwd=SWZK...</td>\n",
       "    </tr>\n",
       "    <tr>\n",
       "      <th>4</th>\n",
       "      <td>Ousmane - 15-minute</td>\n",
       "      <td>2020-11-13 22:15:00+00:00</td>\n",
       "      <td>2020-11-13 22:30:00+00:00</td>\n",
       "      <td>Attendee:\\nOusmane (barryo@whitman.edu)\\n\\nEve...</td>\n",
       "      <td>https://whitman.zoom.us/j/97884782136?pwd=bDEx...</td>\n",
       "    </tr>\n",
       "    <tr>\n",
       "      <th>...</th>\n",
       "      <td>...</td>\n",
       "      <td>...</td>\n",
       "      <td>...</td>\n",
       "      <td>...</td>\n",
       "      <td>...</td>\n",
       "    </tr>\n",
       "    <tr>\n",
       "      <th>167</th>\n",
       "      <td>GAED Progress Review Meeting</td>\n",
       "      <td>2023-04-30 15:00:00+00:00</td>\n",
       "      <td>2023-04-30 16:00:00+00:00</td>\n",
       "      <td>-::~:~::~:~:~:~:~:~:~:~:~:~:~:~:~:~:~:~:~:~:~:...</td>\n",
       "      <td>NaN</td>\n",
       "    </tr>\n",
       "    <tr>\n",
       "      <th>168</th>\n",
       "      <td>GAED Progress Review Meeting</td>\n",
       "      <td>2023-02-26 16:00:00+00:00</td>\n",
       "      <td>2023-02-26 17:00:00+00:00</td>\n",
       "      <td>-::~:~::~:~:~:~:~:~:~:~:~:~:~:~:~:~:~:~:~:~:~:...</td>\n",
       "      <td>NaN</td>\n",
       "    </tr>\n",
       "    <tr>\n",
       "      <th>169</th>\n",
       "      <td>SIT Alumni Panel: Internship or Independent St...</td>\n",
       "      <td>2023-03-01 21:00:00+00:00</td>\n",
       "      <td>2023-03-01 22:00:00+00:00</td>\n",
       "      <td>%%MC MeetingInfo For Attendee_Common|TXT%%</td>\n",
       "      <td>https://worldlearning.webex.com/worldlearning/...</td>\n",
       "    </tr>\n",
       "    <tr>\n",
       "      <th>170</th>\n",
       "      <td>Ousmane Barry - Interview for Meijer Real Esta...</td>\n",
       "      <td>2023-03-01 19:00:00+00:00</td>\n",
       "      <td>2023-03-01 19:45:00+00:00</td>\n",
       "      <td>______________________________________________...</td>\n",
       "      <td>Microsoft Teams Meeting</td>\n",
       "    </tr>\n",
       "    <tr>\n",
       "      <th>171</th>\n",
       "      <td>Visa Advising: Ousmane Barry</td>\n",
       "      <td>2023-04-07 20:00:00+00:00</td>\n",
       "      <td>2023-04-07 21:00:00+00:00</td>\n",
       "      <td>NaN</td>\n",
       "      <td>NaN</td>\n",
       "    </tr>\n",
       "  </tbody>\n",
       "</table>\n",
       "<p>172 rows × 5 columns</p>\n",
       "</div>"
      ],
      "text/plain": [
       "                               SA Student Drop in Hour  \\\n",
       "0                                 Ousmane - 30-minuite   \n",
       "1                                 Ousmane - 30-minuite   \n",
       "2                                  Ousmane - 60-minute   \n",
       "3                                 Ousmane - 30-minuite   \n",
       "4                                  Ousmane - 15-minute   \n",
       "..                                                 ...   \n",
       "167                       GAED Progress Review Meeting   \n",
       "168                       GAED Progress Review Meeting   \n",
       "169  SIT Alumni Panel: Internship or Independent St...   \n",
       "170  Ousmane Barry - Interview for Meijer Real Esta...   \n",
       "171                       Visa Advising: Ousmane Barry   \n",
       "\n",
       "     2020-09-04 21:00:00+02:00  2020-09-04 23:00:00+02:00  \\\n",
       "0    2020-10-09 18:00:00+00:00  2020-10-09 18:30:00+00:00   \n",
       "1    2020-10-14 21:00:00+00:00  2020-10-14 21:30:00+00:00   \n",
       "2    2020-10-15 19:00:00+00:00  2020-10-15 20:00:00+00:00   \n",
       "3    2020-11-12 17:30:00+00:00  2020-11-12 18:00:00+00:00   \n",
       "4    2020-11-13 22:15:00+00:00  2020-11-13 22:30:00+00:00   \n",
       "..                         ...                        ...   \n",
       "167  2023-04-30 15:00:00+00:00  2023-04-30 16:00:00+00:00   \n",
       "168  2023-02-26 16:00:00+00:00  2023-02-26 17:00:00+00:00   \n",
       "169  2023-03-01 21:00:00+00:00  2023-03-01 22:00:00+00:00   \n",
       "170  2023-03-01 19:00:00+00:00  2023-03-01 19:45:00+00:00   \n",
       "171  2023-04-07 20:00:00+00:00  2023-04-07 21:00:00+00:00   \n",
       "\n",
       "    Maria Martinez is inviting you to a scheduled Zoom meeting.\\n\\nJoin Zoom Meeting\\nhttps://whitman.zoom.us/j/91236182747\\n\\nMeeting ID: 912 3618 2747\\nOne tap mobile\\n+13017158592,,91236182747# US (Germantown)\\n+13126266799,,91236182747# US (Chicago)\\n\\nDial by your location\\n        +1 301 715 8592 US (Germantown)\\n        +1 312 626 6799 US (Chicago)\\n        +1 346 248 7799 US (Houston)\\n        +1 646 558 8656 US (New York)\\n        +1 669 900 6833 US (San Jose)\\n        +1 253 215 8782 US (Tacoma)\\nMeeting ID: 912 3618 2747\\nFind your local number: https://whitman.zoom.us/u/ac8G2Ghl0Z  \\\n",
       "0    Attendee:\\nOusmane (barryo@whitman.edu)\\n\\nEve...                                                                                                                                                                                                                                                                                                                                                                                                                                                                                                                                                                    \n",
       "1    Attendee:\\nOusmane (barryo@whitman.edu)\\n\\nEve...                                                                                                                                                                                                                                                                                                                                                                                                                                                                                                                                                                    \n",
       "2    Attendee:\\nOusmane (barryo@whitman.edu)\\n\\nEve...                                                                                                                                                                                                                                                                                                                                                                                                                                                                                                                                                                    \n",
       "3    Attendee:\\nOusmane (barryo@whitman.edu)\\n\\nEve...                                                                                                                                                                                                                                                                                                                                                                                                                                                                                                                                                                    \n",
       "4    Attendee:\\nOusmane (barryo@whitman.edu)\\n\\nEve...                                                                                                                                                                                                                                                                                                                                                                                                                                                                                                                                                                    \n",
       "..                                                 ...                                                                                                                                                                                                                                                                                                                                                                                                                                                                                                                                                                    \n",
       "167  -::~:~::~:~:~:~:~:~:~:~:~:~:~:~:~:~:~:~:~:~:~:...                                                                                                                                                                                                                                                                                                                                                                                                                                                                                                                                                                    \n",
       "168  -::~:~::~:~:~:~:~:~:~:~:~:~:~:~:~:~:~:~:~:~:~:...                                                                                                                                                                                                                                                                                                                                                                                                                                                                                                                                                                    \n",
       "169         %%MC MeetingInfo For Attendee_Common|TXT%%                                                                                                                                                                                                                                                                                                                                                                                                                                                                                                                                                                    \n",
       "170  ______________________________________________...                                                                                                                                                                                                                                                                                                                                                                                                                                                                                                                                                                    \n",
       "171                                                NaN                                                                                                                                                                                                                                                                                                                                                                                                                                                                                                                                                                    \n",
       "\n",
       "                 https://whitman.zoom.us/j/91236182747  \n",
       "0    https://whitman.zoom.us/j/92372124135?pwd=SVJr...  \n",
       "1    https://whitman.zoom.us/j/99286051474?pwd=Z1Jp...  \n",
       "2    https://whitman.zoom.us/j/92347059655?pwd=QWpJ...  \n",
       "3    https://whitman.zoom.us/j/91311814636?pwd=SWZK...  \n",
       "4    https://whitman.zoom.us/j/97884782136?pwd=bDEx...  \n",
       "..                                                 ...  \n",
       "167                                                NaN  \n",
       "168                                                NaN  \n",
       "169  https://worldlearning.webex.com/worldlearning/...  \n",
       "170                            Microsoft Teams Meeting  \n",
       "171                                                NaN  \n",
       "\n",
       "[172 rows x 5 columns]"
      ]
     },
     "execution_count": 597,
     "metadata": {},
     "output_type": "execute_result"
    }
   ],
   "source": [
    "df_calender"
   ]
  },
  {
   "cell_type": "code",
   "execution_count": 598,
   "metadata": {},
   "outputs": [
    {
     "name": "stdout",
     "output_type": "stream",
     "text": [
      "  SA Student Drop in Hour  2020-09-04 21:00:00+02:00  \\\n",
      "0    Ousmane - 30-minuite  2020-10-09 18:00:00+00:00   \n",
      "1    Ousmane - 30-minuite  2020-10-14 21:00:00+00:00   \n",
      "2     Ousmane - 60-minute  2020-10-15 19:00:00+00:00   \n",
      "3    Ousmane - 30-minuite  2020-11-12 17:30:00+00:00   \n",
      "4     Ousmane - 15-minute  2020-11-13 22:15:00+00:00   \n",
      "\n",
      "   2020-09-04 23:00:00+02:00  \\\n",
      "0  2020-10-09 18:30:00+00:00   \n",
      "1  2020-10-14 21:30:00+00:00   \n",
      "2  2020-10-15 20:00:00+00:00   \n",
      "3  2020-11-12 18:00:00+00:00   \n",
      "4  2020-11-13 22:30:00+00:00   \n",
      "\n",
      "  Maria Martinez is inviting you to a scheduled Zoom meeting.\\n\\nJoin Zoom Meeting\\nhttps://whitman.zoom.us/j/91236182747\\n\\nMeeting ID: 912 3618 2747\\nOne tap mobile\\n+13017158592,,91236182747# US (Germantown)\\n+13126266799,,91236182747# US (Chicago)\\n\\nDial by your location\\n        +1 301 715 8592 US (Germantown)\\n        +1 312 626 6799 US (Chicago)\\n        +1 346 248 7799 US (Houston)\\n        +1 646 558 8656 US (New York)\\n        +1 669 900 6833 US (San Jose)\\n        +1 253 215 8782 US (Tacoma)\\nMeeting ID: 912 3618 2747\\nFind your local number: https://whitman.zoom.us/u/ac8G2Ghl0Z  \\\n",
      "0  Attendee:\\nOusmane (barryo@whitman.edu)\\n\\nEve...                                                                                                                                                                                                                                                                                                                                                                                                                                                                                                                                                                    \n",
      "1  Attendee:\\nOusmane (barryo@whitman.edu)\\n\\nEve...                                                                                                                                                                                                                                                                                                                                                                                                                                                                                                                                                                    \n",
      "2  Attendee:\\nOusmane (barryo@whitman.edu)\\n\\nEve...                                                                                                                                                                                                                                                                                                                                                                                                                                                                                                                                                                    \n",
      "3  Attendee:\\nOusmane (barryo@whitman.edu)\\n\\nEve...                                                                                                                                                                                                                                                                                                                                                                                                                                                                                                                                                                    \n",
      "4  Attendee:\\nOusmane (barryo@whitman.edu)\\n\\nEve...                                                                                                                                                                                                                                                                                                                                                                                                                                                                                                                                                                    \n",
      "\n",
      "               https://whitman.zoom.us/j/91236182747  \n",
      "0  https://whitman.zoom.us/j/92372124135?pwd=SVJr...  \n",
      "1  https://whitman.zoom.us/j/99286051474?pwd=Z1Jp...  \n",
      "2  https://whitman.zoom.us/j/92347059655?pwd=QWpJ...  \n",
      "3  https://whitman.zoom.us/j/91311814636?pwd=SWZK...  \n",
      "4  https://whitman.zoom.us/j/97884782136?pwd=bDEx...  \n"
     ]
    }
   ],
   "source": [
    "print(df_calender.head())"
   ]
  },
  {
   "cell_type": "code",
   "execution_count": 599,
   "metadata": {},
   "outputs": [
    {
     "name": "stdout",
     "output_type": "stream",
     "text": [
      "SA Student Drop in Hour                                                                                                                                                                                                                                                                                                                                                                                                                                                                                                                                                                                                object\n",
      "2020-09-04 21:00:00+02:00                                                                                                                                                                                                                                                                                                                                                                                                                                                                                                                                                                                              object\n",
      "2020-09-04 23:00:00+02:00                                                                                                                                                                                                                                                                                                                                                                                                                                                                                                                                                                                              object\n",
      "Maria Martinez is inviting you to a scheduled Zoom meeting.\\n\\nJoin Zoom Meeting\\nhttps://whitman.zoom.us/j/91236182747\\n\\nMeeting ID: 912 3618 2747\\nOne tap mobile\\n+13017158592,,91236182747# US (Germantown)\\n+13126266799,,91236182747# US (Chicago)\\n\\nDial by your location\\n        +1 301 715 8592 US (Germantown)\\n        +1 312 626 6799 US (Chicago)\\n        +1 346 248 7799 US (Houston)\\n        +1 646 558 8656 US (New York)\\n        +1 669 900 6833 US (San Jose)\\n        +1 253 215 8782 US (Tacoma)\\nMeeting ID: 912 3618 2747\\nFind your local number: https://whitman.zoom.us/u/ac8G2Ghl0Z    object\n",
      "https://whitman.zoom.us/j/91236182747                                                                                                                                                                                                                                                                                                                                                                                                                                                                                                                                                                                  object\n",
      "dtype: object\n"
     ]
    }
   ],
   "source": [
    "# i print the types of data \n",
    "print(df_calender.dtypes)"
   ]
  },
  {
   "cell_type": "code",
   "execution_count": 600,
   "metadata": {},
   "outputs": [
    {
     "name": "stdout",
     "output_type": "stream",
     "text": [
      "SA Student Drop in Hour                                                                                                                                                                                                                                                                                                                                                                                                                                                                                                                                                                                                 92\n",
      "2020-09-04 21:00:00+02:00                                                                                                                                                                                                                                                                                                                                                                                                                                                                                                                                                                                              165\n",
      "2020-09-04 23:00:00+02:00                                                                                                                                                                                                                                                                                                                                                                                                                                                                                                                                                                                              165\n",
      "Maria Martinez is inviting you to a scheduled Zoom meeting.\\n\\nJoin Zoom Meeting\\nhttps://whitman.zoom.us/j/91236182747\\n\\nMeeting ID: 912 3618 2747\\nOne tap mobile\\n+13017158592,,91236182747# US (Germantown)\\n+13126266799,,91236182747# US (Chicago)\\n\\nDial by your location\\n        +1 301 715 8592 US (Germantown)\\n        +1 312 626 6799 US (Chicago)\\n        +1 346 248 7799 US (Houston)\\n        +1 646 558 8656 US (New York)\\n        +1 669 900 6833 US (San Jose)\\n        +1 253 215 8782 US (Tacoma)\\nMeeting ID: 912 3618 2747\\nFind your local number: https://whitman.zoom.us/u/ac8G2Ghl0Z    109\n",
      "https://whitman.zoom.us/j/91236182747                                                                                                                                                                                                                                                                                                                                                                                                                                                                                                                                                                                   55\n",
      "dtype: int64\n"
     ]
    }
   ],
   "source": [
    "#I print all the unique data and see result below. \n",
    "print(df_calender.nunique())"
   ]
  },
  {
   "cell_type": "code",
   "execution_count": 601,
   "metadata": {},
   "outputs": [],
   "source": [
    "# get the timestamps and data frame of my data by using one of my column\n",
    "df_Ousma = pd.DataFrame( df_calender[\"2020-09-04 21:00:00+02:00\"])"
   ]
  },
  {
   "cell_type": "code",
   "execution_count": 602,
   "metadata": {},
   "outputs": [
    {
     "data": {
      "text/html": [
       "<div>\n",
       "<style scoped>\n",
       "    .dataframe tbody tr th:only-of-type {\n",
       "        vertical-align: middle;\n",
       "    }\n",
       "\n",
       "    .dataframe tbody tr th {\n",
       "        vertical-align: top;\n",
       "    }\n",
       "\n",
       "    .dataframe thead th {\n",
       "        text-align: right;\n",
       "    }\n",
       "</style>\n",
       "<table border=\"1\" class=\"dataframe\">\n",
       "  <thead>\n",
       "    <tr style=\"text-align: right;\">\n",
       "      <th></th>\n",
       "      <th>2020-09-04 21:00:00+02:00</th>\n",
       "    </tr>\n",
       "  </thead>\n",
       "  <tbody>\n",
       "    <tr>\n",
       "      <th>0</th>\n",
       "      <td>2020-10-09 18:00:00+00:00</td>\n",
       "    </tr>\n",
       "    <tr>\n",
       "      <th>1</th>\n",
       "      <td>2020-10-14 21:00:00+00:00</td>\n",
       "    </tr>\n",
       "    <tr>\n",
       "      <th>2</th>\n",
       "      <td>2020-10-15 19:00:00+00:00</td>\n",
       "    </tr>\n",
       "    <tr>\n",
       "      <th>3</th>\n",
       "      <td>2020-11-12 17:30:00+00:00</td>\n",
       "    </tr>\n",
       "    <tr>\n",
       "      <th>4</th>\n",
       "      <td>2020-11-13 22:15:00+00:00</td>\n",
       "    </tr>\n",
       "    <tr>\n",
       "      <th>...</th>\n",
       "      <td>...</td>\n",
       "    </tr>\n",
       "    <tr>\n",
       "      <th>167</th>\n",
       "      <td>2023-04-30 15:00:00+00:00</td>\n",
       "    </tr>\n",
       "    <tr>\n",
       "      <th>168</th>\n",
       "      <td>2023-02-26 16:00:00+00:00</td>\n",
       "    </tr>\n",
       "    <tr>\n",
       "      <th>169</th>\n",
       "      <td>2023-03-01 21:00:00+00:00</td>\n",
       "    </tr>\n",
       "    <tr>\n",
       "      <th>170</th>\n",
       "      <td>2023-03-01 19:00:00+00:00</td>\n",
       "    </tr>\n",
       "    <tr>\n",
       "      <th>171</th>\n",
       "      <td>2023-04-07 20:00:00+00:00</td>\n",
       "    </tr>\n",
       "  </tbody>\n",
       "</table>\n",
       "<p>172 rows × 1 columns</p>\n",
       "</div>"
      ],
      "text/plain": [
       "     2020-09-04 21:00:00+02:00\n",
       "0    2020-10-09 18:00:00+00:00\n",
       "1    2020-10-14 21:00:00+00:00\n",
       "2    2020-10-15 19:00:00+00:00\n",
       "3    2020-11-12 17:30:00+00:00\n",
       "4    2020-11-13 22:15:00+00:00\n",
       "..                         ...\n",
       "167  2023-04-30 15:00:00+00:00\n",
       "168  2023-02-26 16:00:00+00:00\n",
       "169  2023-03-01 21:00:00+00:00\n",
       "170  2023-03-01 19:00:00+00:00\n",
       "171  2023-04-07 20:00:00+00:00\n",
       "\n",
       "[172 rows x 1 columns]"
      ]
     },
     "execution_count": 602,
     "metadata": {},
     "output_type": "execute_result"
    }
   ],
   "source": [
    "df_Ousma"
   ]
  },
  {
   "cell_type": "code",
   "execution_count": 603,
   "metadata": {
    "scrolled": true
   },
   "outputs": [
    {
     "data": {
      "text/html": [
       "<div>\n",
       "<style scoped>\n",
       "    .dataframe tbody tr th:only-of-type {\n",
       "        vertical-align: middle;\n",
       "    }\n",
       "\n",
       "    .dataframe tbody tr th {\n",
       "        vertical-align: top;\n",
       "    }\n",
       "\n",
       "    .dataframe thead th {\n",
       "        text-align: right;\n",
       "    }\n",
       "</style>\n",
       "<table border=\"1\" class=\"dataframe\">\n",
       "  <thead>\n",
       "    <tr style=\"text-align: right;\">\n",
       "      <th></th>\n",
       "      <th>2020-09-04 21:00:00+02:00</th>\n",
       "      <th>Second Format</th>\n",
       "    </tr>\n",
       "  </thead>\n",
       "  <tbody>\n",
       "    <tr>\n",
       "      <th>0</th>\n",
       "      <td>2020-10-09 18:00:00+00:00</td>\n",
       "      <td>2020-10-09 18:00:00+00:00</td>\n",
       "    </tr>\n",
       "    <tr>\n",
       "      <th>1</th>\n",
       "      <td>2020-10-14 21:00:00+00:00</td>\n",
       "      <td>2020-10-14 21:00:00+00:00</td>\n",
       "    </tr>\n",
       "    <tr>\n",
       "      <th>2</th>\n",
       "      <td>2020-10-15 19:00:00+00:00</td>\n",
       "      <td>2020-10-15 19:00:00+00:00</td>\n",
       "    </tr>\n",
       "    <tr>\n",
       "      <th>3</th>\n",
       "      <td>2020-11-12 17:30:00+00:00</td>\n",
       "      <td>2020-11-12 17:30:00+00:00</td>\n",
       "    </tr>\n",
       "    <tr>\n",
       "      <th>4</th>\n",
       "      <td>2020-11-13 22:15:00+00:00</td>\n",
       "      <td>2020-11-13 22:15:00+00:00</td>\n",
       "    </tr>\n",
       "    <tr>\n",
       "      <th>...</th>\n",
       "      <td>...</td>\n",
       "      <td>...</td>\n",
       "    </tr>\n",
       "    <tr>\n",
       "      <th>167</th>\n",
       "      <td>2023-04-30 15:00:00+00:00</td>\n",
       "      <td>2023-04-30 15:00:00+00:00</td>\n",
       "    </tr>\n",
       "    <tr>\n",
       "      <th>168</th>\n",
       "      <td>2023-02-26 16:00:00+00:00</td>\n",
       "      <td>2023-02-26 16:00:00+00:00</td>\n",
       "    </tr>\n",
       "    <tr>\n",
       "      <th>169</th>\n",
       "      <td>2023-03-01 21:00:00+00:00</td>\n",
       "      <td>2023-03-01 21:00:00+00:00</td>\n",
       "    </tr>\n",
       "    <tr>\n",
       "      <th>170</th>\n",
       "      <td>2023-03-01 19:00:00+00:00</td>\n",
       "      <td>2023-03-01 19:00:00+00:00</td>\n",
       "    </tr>\n",
       "    <tr>\n",
       "      <th>171</th>\n",
       "      <td>2023-04-07 20:00:00+00:00</td>\n",
       "      <td>2023-04-07 20:00:00+00:00</td>\n",
       "    </tr>\n",
       "  </tbody>\n",
       "</table>\n",
       "<p>172 rows × 2 columns</p>\n",
       "</div>"
      ],
      "text/plain": [
       "     2020-09-04 21:00:00+02:00              Second Format\n",
       "0    2020-10-09 18:00:00+00:00  2020-10-09 18:00:00+00:00\n",
       "1    2020-10-14 21:00:00+00:00  2020-10-14 21:00:00+00:00\n",
       "2    2020-10-15 19:00:00+00:00  2020-10-15 19:00:00+00:00\n",
       "3    2020-11-12 17:30:00+00:00  2020-11-12 17:30:00+00:00\n",
       "4    2020-11-13 22:15:00+00:00  2020-11-13 22:15:00+00:00\n",
       "..                         ...                        ...\n",
       "167  2023-04-30 15:00:00+00:00  2023-04-30 15:00:00+00:00\n",
       "168  2023-02-26 16:00:00+00:00  2023-02-26 16:00:00+00:00\n",
       "169  2023-03-01 21:00:00+00:00  2023-03-01 21:00:00+00:00\n",
       "170  2023-03-01 19:00:00+00:00  2023-03-01 19:00:00+00:00\n",
       "171  2023-04-07 20:00:00+00:00  2023-04-07 20:00:00+00:00\n",
       "\n",
       "[172 rows x 2 columns]"
      ]
     },
     "execution_count": 603,
     "metadata": {},
     "output_type": "execute_result"
    }
   ],
   "source": [
    "# I assigned the timestamps to  a second format fucntion.\n",
    "df_Ousma[\"Second Format\"] = pd.to_datetime(df_Ousma[\"2020-09-04 21:00:00+02:00\"])\n",
    "df_Ousma"
   ]
  },
  {
   "cell_type": "code",
   "execution_count": 604,
   "metadata": {},
   "outputs": [],
   "source": [
    "# I called for data frame 2 and tmestamps 2 with the second column of my data\n",
    "df_Ousma1 = pd.DataFrame(df_calender[\"2020-09-04 23:00:00+02:00\"])"
   ]
  },
  {
   "cell_type": "code",
   "execution_count": 605,
   "metadata": {},
   "outputs": [
    {
     "data": {
      "text/html": [
       "<div>\n",
       "<style scoped>\n",
       "    .dataframe tbody tr th:only-of-type {\n",
       "        vertical-align: middle;\n",
       "    }\n",
       "\n",
       "    .dataframe tbody tr th {\n",
       "        vertical-align: top;\n",
       "    }\n",
       "\n",
       "    .dataframe thead th {\n",
       "        text-align: right;\n",
       "    }\n",
       "</style>\n",
       "<table border=\"1\" class=\"dataframe\">\n",
       "  <thead>\n",
       "    <tr style=\"text-align: right;\">\n",
       "      <th></th>\n",
       "      <th>2020-09-04 23:00:00+02:00</th>\n",
       "      <th>Third Format</th>\n",
       "    </tr>\n",
       "  </thead>\n",
       "  <tbody>\n",
       "    <tr>\n",
       "      <th>0</th>\n",
       "      <td>2020-10-09 18:30:00+00:00</td>\n",
       "      <td>2020-10-09 18:30:00+00:00</td>\n",
       "    </tr>\n",
       "    <tr>\n",
       "      <th>1</th>\n",
       "      <td>2020-10-14 21:30:00+00:00</td>\n",
       "      <td>2020-10-14 21:30:00+00:00</td>\n",
       "    </tr>\n",
       "    <tr>\n",
       "      <th>2</th>\n",
       "      <td>2020-10-15 20:00:00+00:00</td>\n",
       "      <td>2020-10-15 20:00:00+00:00</td>\n",
       "    </tr>\n",
       "    <tr>\n",
       "      <th>3</th>\n",
       "      <td>2020-11-12 18:00:00+00:00</td>\n",
       "      <td>2020-11-12 18:00:00+00:00</td>\n",
       "    </tr>\n",
       "    <tr>\n",
       "      <th>4</th>\n",
       "      <td>2020-11-13 22:30:00+00:00</td>\n",
       "      <td>2020-11-13 22:30:00+00:00</td>\n",
       "    </tr>\n",
       "    <tr>\n",
       "      <th>...</th>\n",
       "      <td>...</td>\n",
       "      <td>...</td>\n",
       "    </tr>\n",
       "    <tr>\n",
       "      <th>167</th>\n",
       "      <td>2023-04-30 16:00:00+00:00</td>\n",
       "      <td>2023-04-30 16:00:00+00:00</td>\n",
       "    </tr>\n",
       "    <tr>\n",
       "      <th>168</th>\n",
       "      <td>2023-02-26 17:00:00+00:00</td>\n",
       "      <td>2023-02-26 17:00:00+00:00</td>\n",
       "    </tr>\n",
       "    <tr>\n",
       "      <th>169</th>\n",
       "      <td>2023-03-01 22:00:00+00:00</td>\n",
       "      <td>2023-03-01 22:00:00+00:00</td>\n",
       "    </tr>\n",
       "    <tr>\n",
       "      <th>170</th>\n",
       "      <td>2023-03-01 19:45:00+00:00</td>\n",
       "      <td>2023-03-01 19:45:00+00:00</td>\n",
       "    </tr>\n",
       "    <tr>\n",
       "      <th>171</th>\n",
       "      <td>2023-04-07 21:00:00+00:00</td>\n",
       "      <td>2023-04-07 21:00:00+00:00</td>\n",
       "    </tr>\n",
       "  </tbody>\n",
       "</table>\n",
       "<p>172 rows × 2 columns</p>\n",
       "</div>"
      ],
      "text/plain": [
       "     2020-09-04 23:00:00+02:00               Third Format\n",
       "0    2020-10-09 18:30:00+00:00  2020-10-09 18:30:00+00:00\n",
       "1    2020-10-14 21:30:00+00:00  2020-10-14 21:30:00+00:00\n",
       "2    2020-10-15 20:00:00+00:00  2020-10-15 20:00:00+00:00\n",
       "3    2020-11-12 18:00:00+00:00  2020-11-12 18:00:00+00:00\n",
       "4    2020-11-13 22:30:00+00:00  2020-11-13 22:30:00+00:00\n",
       "..                         ...                        ...\n",
       "167  2023-04-30 16:00:00+00:00  2023-04-30 16:00:00+00:00\n",
       "168  2023-02-26 17:00:00+00:00  2023-02-26 17:00:00+00:00\n",
       "169  2023-03-01 22:00:00+00:00  2023-03-01 22:00:00+00:00\n",
       "170  2023-03-01 19:45:00+00:00  2023-03-01 19:45:00+00:00\n",
       "171  2023-04-07 21:00:00+00:00  2023-04-07 21:00:00+00:00\n",
       "\n",
       "[172 rows x 2 columns]"
      ]
     },
     "execution_count": 605,
     "metadata": {},
     "output_type": "execute_result"
    }
   ],
   "source": [
    "# i assigned it to third format and df_Ousma1\n",
    "df_Ousma1[\"Third Format\"] = pd.to_datetime(df_Ousma1[\"2020-09-04 23:00:00+02:00\"])\n",
    "df_Ousma1"
   ]
  },
  {
   "cell_type": "code",
   "execution_count": 606,
   "metadata": {},
   "outputs": [],
   "source": [
    "# I concatenate the two timestamps andI assigned it to differents variable such as:\n",
    "# I assigned df3 to df-Ousman and df4 to df4 then I concatenated them.\n",
    "df3 = pd.DataFrame(df_Ousma['Second Format'])\n",
    "df4 = pd.DataFrame(df_Ousma1['Third Format'])\n",
    "df_concat = pd.concat([df3, df4], axis=1)"
   ]
  },
  {
   "cell_type": "code",
   "execution_count": 607,
   "metadata": {},
   "outputs": [
    {
     "data": {
      "text/html": [
       "<div>\n",
       "<style scoped>\n",
       "    .dataframe tbody tr th:only-of-type {\n",
       "        vertical-align: middle;\n",
       "    }\n",
       "\n",
       "    .dataframe tbody tr th {\n",
       "        vertical-align: top;\n",
       "    }\n",
       "\n",
       "    .dataframe thead th {\n",
       "        text-align: right;\n",
       "    }\n",
       "</style>\n",
       "<table border=\"1\" class=\"dataframe\">\n",
       "  <thead>\n",
       "    <tr style=\"text-align: right;\">\n",
       "      <th></th>\n",
       "      <th>Second Format</th>\n",
       "      <th>Third Format</th>\n",
       "    </tr>\n",
       "  </thead>\n",
       "  <tbody>\n",
       "    <tr>\n",
       "      <th>0</th>\n",
       "      <td>2020-10-09 18:00:00+00:00</td>\n",
       "      <td>2020-10-09 18:30:00+00:00</td>\n",
       "    </tr>\n",
       "    <tr>\n",
       "      <th>1</th>\n",
       "      <td>2020-10-14 21:00:00+00:00</td>\n",
       "      <td>2020-10-14 21:30:00+00:00</td>\n",
       "    </tr>\n",
       "    <tr>\n",
       "      <th>2</th>\n",
       "      <td>2020-10-15 19:00:00+00:00</td>\n",
       "      <td>2020-10-15 20:00:00+00:00</td>\n",
       "    </tr>\n",
       "    <tr>\n",
       "      <th>3</th>\n",
       "      <td>2020-11-12 17:30:00+00:00</td>\n",
       "      <td>2020-11-12 18:00:00+00:00</td>\n",
       "    </tr>\n",
       "    <tr>\n",
       "      <th>4</th>\n",
       "      <td>2020-11-13 22:15:00+00:00</td>\n",
       "      <td>2020-11-13 22:30:00+00:00</td>\n",
       "    </tr>\n",
       "    <tr>\n",
       "      <th>...</th>\n",
       "      <td>...</td>\n",
       "      <td>...</td>\n",
       "    </tr>\n",
       "    <tr>\n",
       "      <th>167</th>\n",
       "      <td>2023-04-30 15:00:00+00:00</td>\n",
       "      <td>2023-04-30 16:00:00+00:00</td>\n",
       "    </tr>\n",
       "    <tr>\n",
       "      <th>168</th>\n",
       "      <td>2023-02-26 16:00:00+00:00</td>\n",
       "      <td>2023-02-26 17:00:00+00:00</td>\n",
       "    </tr>\n",
       "    <tr>\n",
       "      <th>169</th>\n",
       "      <td>2023-03-01 21:00:00+00:00</td>\n",
       "      <td>2023-03-01 22:00:00+00:00</td>\n",
       "    </tr>\n",
       "    <tr>\n",
       "      <th>170</th>\n",
       "      <td>2023-03-01 19:00:00+00:00</td>\n",
       "      <td>2023-03-01 19:45:00+00:00</td>\n",
       "    </tr>\n",
       "    <tr>\n",
       "      <th>171</th>\n",
       "      <td>2023-04-07 20:00:00+00:00</td>\n",
       "      <td>2023-04-07 21:00:00+00:00</td>\n",
       "    </tr>\n",
       "  </tbody>\n",
       "</table>\n",
       "<p>172 rows × 2 columns</p>\n",
       "</div>"
      ],
      "text/plain": [
       "                 Second Format               Third Format\n",
       "0    2020-10-09 18:00:00+00:00  2020-10-09 18:30:00+00:00\n",
       "1    2020-10-14 21:00:00+00:00  2020-10-14 21:30:00+00:00\n",
       "2    2020-10-15 19:00:00+00:00  2020-10-15 20:00:00+00:00\n",
       "3    2020-11-12 17:30:00+00:00  2020-11-12 18:00:00+00:00\n",
       "4    2020-11-13 22:15:00+00:00  2020-11-13 22:30:00+00:00\n",
       "..                         ...                        ...\n",
       "167  2023-04-30 15:00:00+00:00  2023-04-30 16:00:00+00:00\n",
       "168  2023-02-26 16:00:00+00:00  2023-02-26 17:00:00+00:00\n",
       "169  2023-03-01 21:00:00+00:00  2023-03-01 22:00:00+00:00\n",
       "170  2023-03-01 19:00:00+00:00  2023-03-01 19:45:00+00:00\n",
       "171  2023-04-07 20:00:00+00:00  2023-04-07 21:00:00+00:00\n",
       "\n",
       "[172 rows x 2 columns]"
      ]
     },
     "execution_count": 607,
     "metadata": {},
     "output_type": "execute_result"
    }
   ],
   "source": [
    "df_concat"
   ]
  },
  {
   "cell_type": "code",
   "execution_count": 608,
   "metadata": {},
   "outputs": [
    {
     "data": {
      "image/png": "[encoded data removed]",
      "text/plain": [
       "<Figure size 432x288 with 1 Axes>"
      ]
     },
     "metadata": {
      "needs_background": "light"
     },
     "output_type": "display_data"
    }
   ],
   "source": [
    "# I did th plot for this data and see graph below. \n",
    "import matplotlib.pyplot as plt\n",
    "\n",
    "plt.plot(df_concat['Second Format'], df_concat['Third Format'], 's-')\n",
    "plt.xlabel('Second Format')\n",
    "plt.ylabel('Third Format')\n",
    "plt.title('Ousmane data concatenated and lenght of meeting')\n",
    "plt.show()"
   ]
  },
  {
   "cell_type": "code",
   "execution_count": null,
   "metadata": {},
   "outputs": [],
   "source": []
  }
 ],
 "metadata": {
  "kernelspec": {
   "display_name": "Python 3",
   "language": "python",
   "name": "python3"
  },
  "language_info": {
   "codemirror_mode": {
    "name": "ipython",
    "version": 3
   },
   "file_extension": ".py",
   "mimetype": "text/x-python",
   "name": "python",
   "nbconvert_exporter": "python",
   "pygments_lexer": "ipython3",
   "version": "3.8.3"
  }
 },
 "nbformat": 4,
 "nbformat_minor": 4
}
